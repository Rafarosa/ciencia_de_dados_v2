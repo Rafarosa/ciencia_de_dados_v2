{
 "cells": [
  {
   "cell_type": "markdown",
   "id": "d1e62f9b",
   "metadata": {},
   "source": [
    "# Reforce seu conhecimento"
   ]
  },
  {
   "cell_type": "markdown",
   "id": "eb3eccb0",
   "metadata": {},
   "source": [
    "Antes de revisar as respostas, tente respondê-las você mesmo, isso te ajudará a fortalecer sua compreensão. Esta é uma ótima maneira de aprender!\n",
    "\n",
    "## O que é estatística descritiva e como ela difere da estatística inferencial?\n",
    "A estatística descritiva se concentra em descrever eventos e suas características, utilizando medidas como média, mediana e desvio padrão. Já a estatística inferencial vai além da descrição dos dados, fazendo estimativas e tirando conclusões a partir dos dados analisados.\n",
    "\n",
    "## O que são medidas de tendência central e quais são as principais?\n",
    "Medidas de tendência central são valores que representam o centro de um conjunto de dados. As principais medidas de tendência central são a média, a mediana e a moda.\n",
    "\n",
    "## Como a média aritmética é calculada?\n",
    "A média aritmética é calculada somando todos os valores de um conjunto de dados e dividindo essa soma pelo número total de valores.\n",
    "\n",
    "## Qual é a diferença entre desvio padrão e variância?\n",
    "O desvio padrão mede a dispersão dos valores em relação à média, enquanto a variância é o desvio padrão ao quadrado.\n",
    "\n",
    "## Qual é a importância da distribuição normal na análise estatística?\n",
    "A distribuição normal é importante porque muitos conjuntos de dados seguem essa distribuição, permitindo a aplicação de conceitos probabilísticos e inferências estatísticas. Ela é caracterizada por sua forma simétrica em torno de uma média, com a maior parte dos dados concentrada no centro."
   ]
  }
 ],
 "metadata": {
  "language_info": {
   "name": "python"
  }
 },
 "nbformat": 4,
 "nbformat_minor": 5
}
