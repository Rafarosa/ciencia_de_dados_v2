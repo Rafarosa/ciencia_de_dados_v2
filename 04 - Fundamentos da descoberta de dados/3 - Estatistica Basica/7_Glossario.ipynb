{
 "cells": [
  {
   "cell_type": "markdown",
   "id": "50883280",
   "metadata": {},
   "source": [
    "# Glossario "
   ]
  },
  {
   "cell_type": "markdown",
   "id": "0a121473",
   "metadata": {},
   "source": [
    "## Amostragem Estratificada\n",
    "Um método de amostragem que divide a população em subgrupos homogêneos (estratos) e seleciona amostras aleatórias de cada estrato. Isso garante que todas as subpopulações sejam representadas na amostra final."
   ]
  },
  {
   "cell_type": "markdown",
   "id": "4541d9df",
   "metadata": {},
   "source": [
    "## Desvio Padrão\n",
    "Uma medida de dispersão que indica o quanto os valores de um conjunto de dados se desviam, em média, da média do conjunto. É a raiz quadrada da variância."
   ]
  },
  {
   "cell_type": "markdown",
   "id": "3f20db5e",
   "metadata": {},
   "source": [
    "## Distribuição Normal\n",
    "Também conhecida como distribuição Gaussiana, é uma distribuição probabilística contínua que é simétrica em torno da média, com a maioria dos dados concentrados em torno do centro."
   ]
  },
  {
   "cell_type": "markdown",
   "id": "3cab5a62",
   "metadata": {},
   "source": [
    "## Estatística Inferencial\n",
    "Um ramo da estatística que faz previsões ou inferências sobre uma população com base em uma amostra de dados. Utiliza técnicas como estimativas de intervalo e testes de hipóteses."
   ]
  },
  {
   "cell_type": "markdown",
   "id": "a50985a5",
   "metadata": {},
   "source": [
    "## Histograma\n",
    "Uma representação gráfica da distribuição de dados que utiliza barras para mostrar a frequência de valores em intervalos específicos. É útil para visualizar a forma da distribuição dos dados."
   ]
  },
  {
   "cell_type": "markdown",
   "id": "763ce520",
   "metadata": {},
   "source": [
    "## Variância\n",
    "Uma medida de dispersão que indica o quanto os valores de um conjunto de dados se desviam da média, em média. É o desvio padrão ao quadrado."
   ]
  }
 ],
 "metadata": {
  "language_info": {
   "name": "python"
  }
 },
 "nbformat": 4,
 "nbformat_minor": 5
}
