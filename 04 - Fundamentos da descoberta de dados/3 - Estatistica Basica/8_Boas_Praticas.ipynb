{
 "cells": [
  {
   "cell_type": "markdown",
   "id": "c009d9ba",
   "metadata": {},
   "source": [
    "# Boas Práticas\n",
    "\n",
    "Nesta seção você encontrará informações importantes que te ajudarão a aplicar efetivamente o que aprendeu."
   ]
  },
  {
   "cell_type": "markdown",
   "id": "b0d7fec6",
   "metadata": {},
   "source": [
    "## Entender a diferença entre população e amostra\n",
    "\n",
    "É crucial distinguir entre população e amostra para garantir a precisão das análises estatísticas. A população inclui todos os elementos de interesse, enquanto a amostra é um subconjunto da população. Trabalhar com amostras bem definidas ajuda a evitar vieses e a obter resultados mais representativos."
   ]
  },
  {
   "cell_type": "markdown",
   "id": "c96d3a9d",
   "metadata": {},
   "source": [
    "## Utilizar medidas de tendência central e dispersão\n",
    "\n",
    "As medidas de tendência central (média, mediana e moda) e dispersão (desvio padrão e variância) são fundamentais para descrever e entender os dados. A média fornece uma visão geral, a mediana ajuda a identificar a distribuição e a moda destaca os valores mais frequentes. O desvio padrão e a variância indicam a variabilidade dos dados."
   ]
  },
  {
   "cell_type": "markdown",
   "id": "108d61b4",
   "metadata": {},
   "source": [
    "## Realizar análise exploratória de dados\n",
    "\n",
    "Antes de realizar cálculos estatísticos, é essencial realizar uma análise exploratória dos dados. Isso inclui a visualização dos dados, a identificação de outliers e a compreensão da distribuição dos dados. Ferramentas como histogramas e gráficos de dispersão são úteis para essa etapa."
   ]
  },
  {
   "cell_type": "markdown",
   "id": "c605c9fa",
   "metadata": {},
   "source": [
    "## Aplicar conceitos estatísticos em Python e R\n",
    "\n",
    "Utilizar linguagens de programação como Python e R para aplicar conceitos estatísticos facilita a análise e a visualização dos dados. Bibliotecas como Pandas em Python e pacotes em R oferecem funções prontas para calcular medidas estatísticas e criar visualizações."
   ]
  },
  {
   "cell_type": "markdown",
   "id": "d6e27668",
   "metadata": {},
   "source": [
    "# Exemplo de utilização no mercado de trabalho:\n",
    "\n",
    "**Análise de Desempenho de Produtos**: Empresas utilizam medidas de tendência central e dispersão para analisar o desempenho de produtos no mercado. A média das vendas, a mediana dos preços e o desvio padrão das avaliações dos clientes são exemplos de métricas analisadas.\n",
    "\n",
    "**Pesquisa de Satisfação do Cliente**: Em pesquisas de satisfação, as empresas coletam amostras de respostas dos clientes e utilizam estatísticas descritivas para resumir os dados. A média das notas de satisfação e a moda das respostas mais frequentes ajudam a entender a percepção dos clientes."
   ]
  },
  {
   "cell_type": "markdown",
   "id": "f7b3cc1d",
   "metadata": {},
   "source": [
    "# Exemplo de código executável (em Python) que ilustra a aplicação de conceitos estatísticos:"
   ]
  },
  {
   "cell_type": "code",
   "execution_count": null,
   "id": "55691478",
   "metadata": {},
   "outputs": [],
   "source": [
    "import pandas as pd\n",
    "\n",
    "# Exemplo de dados: salários dos 25 esportistas mais bem pagos de 2023\n",
    "# import pandas as pd: Importa a biblioteca Pandas, que é usada para manipulação e análise de dados.\n",
    "\n",
    "# Dicionário contendo os dados dos salários dos esportistas.\n",
    "data = {\n",
    "    'Nome': ['Esportista1', 'Esportista2', 'Esportista3', 'Esportista4', 'Esportista5'],\n",
    "    'Salário': [100, 150, 200, 250, 300]\n",
    "}\n",
    "\n",
    "# Cria um DataFrame a partir do dicionário de dados.\n",
    "df = pd.DataFrame(data)\n",
    "\n",
    "# Cálculo da média\n",
    "# Calcula a média dos salários.\n",
    "media = df['Salário'].mean()\n",
    "print(f'Média: {media}')\n",
    "\n",
    "# Cálculo da mediana\n",
    "# Calcula a mediana dos salários.\n",
    "mediana = df['Salário'].median()\n",
    "print(f'Mediana: {mediana}')\n",
    "\n",
    "# Cálculo da moda\n",
    "# Calcula a moda dos salários.\n",
    "moda = df['Salário'].mode()[0]\n",
    "print(f'Moda: {moda}')\n",
    "\n",
    "# Cálculo do desvio padrão\n",
    "# Calcula o desvio padrão dos salários.\n",
    "desvio_padrao = df['Salário'].std()\n",
    "print(f'Desvio Padrão: {desvio_padrao}')"
   ]
  }
 ],
 "metadata": {
  "kernelspec": {
   "display_name": "Python 3",
   "language": "python",
   "name": "python3"
  },
  "language_info": {
   "name": "python",
   "version": "3.13.2"
  }
 },
 "nbformat": 4,
 "nbformat_minor": 5
}
