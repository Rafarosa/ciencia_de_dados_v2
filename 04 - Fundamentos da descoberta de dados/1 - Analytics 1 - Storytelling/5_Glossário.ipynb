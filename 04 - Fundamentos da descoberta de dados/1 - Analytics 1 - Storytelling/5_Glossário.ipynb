{
 "cells": [
  {
   "cell_type": "markdown",
   "id": "6627c658",
   "metadata": {},
   "source": [
    "# Glossário"
   ]
  },
  {
   "cell_type": "markdown",
   "id": "2cb9ad20",
   "metadata": {},
   "source": [
    "### Desequilíbrio\n",
    "Um dos elementos-chave do storytelling em ciência de dados, refere-se ao problema ou desafio que precisa ser resolvido. É a parte da narrativa que cria tensão e engaja o público, destacando a importância da análise de dados para encontrar uma solução.\n",
    "\n",
    "### Equilíbrio\n",
    "Outro elemento essencial do storytelling, representa a resolução do problema ou o estado desejado após a aplicação das soluções baseadas em dados. É a parte da narrativa que mostra os resultados positivos e os benefícios das análises realizadas.\n",
    "\n",
    "### Storytelling\n",
    "A arte de usar narrativas para comunicar insights e descobertas de dados de maneira envolvente e compreensível. Envolve a criação de uma história estruturada com início, meio e fim, utilizando elementos como gráficos e visualizações para tornar a mensagem mais clara e impactante.\n",
    "\n",
    "### Stakeholders\n",
    "Indivíduos ou grupos que têm interesse ou são afetados pelos resultados de um projeto de ciência de dados. Comunicar de forma eficaz com os stakeholders é crucial para garantir que as análises sejam compreendidas e utilizadas para informar decisões estratégicas."
   ]
  }
 ],
 "metadata": {
  "language_info": {
   "name": "python"
  }
 },
 "nbformat": 4,
 "nbformat_minor": 5
}
