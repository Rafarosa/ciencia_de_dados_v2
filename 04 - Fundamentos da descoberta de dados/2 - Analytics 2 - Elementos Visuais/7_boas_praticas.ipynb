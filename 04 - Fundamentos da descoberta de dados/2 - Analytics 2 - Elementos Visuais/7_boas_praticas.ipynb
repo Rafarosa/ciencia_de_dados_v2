{
 "cells": [
  {
   "cell_type": "markdown",
   "id": "90b727f5",
   "metadata": {},
   "source": [
    "# Boas práticas"
   ]
  },
  {
   "cell_type": "markdown",
   "id": "a9e6382e",
   "metadata": {},
   "source": [
    "Nesta seção, você encontrará informações importantes que te ajudarão a aplicara efetivamente o que aprendeu.\n",
    "\n",
    "### Escolha do Gráfico Adequado\n",
    "Selecionar o tipo de gráfico correto é fundamental para transmitir a mensagem de forma clara e eficaz. Por exemplo, gráficos de colunas são ideais para comparar categorias, enquanto gráficos de linha são melhores para mostrar tendências ao longo do tempo.\n",
    "\n",
    "### Simplicidade e Clareza\n",
    "Mantenha suas visualizações simples e claras. Evite sobrecarregar os gráficos com informações desnecessárias. Use cores e textos de forma estratégica para destacar os pontos mais importantes.\n",
    "\n",
    "### Uso de Ferramentas Adequadas\n",
    "Familiarize-se com ferramentas populares de visualização de dados, como Matplotlib e Plotly Express. Essas ferramentas oferecem uma ampla gama de funcionalidades para criar gráficos estáticos e interativos.\n",
    "\n",
    "### Documentação e Recursos\n",
    "Consulte a documentação das bibliotecas de visualização de dados para explorar todas as funcionalidades disponíveis. Isso permitirá que você crie visualizações mais sofisticadas e informativas."
   ]
  },
  {
   "cell_type": "markdown",
   "id": "677b0149",
   "metadata": {},
   "source": [
    "## Exemplo de utilização no mercado de trabalho\n",
    "\n",
    "- **Relatórios de Vendas**: Utilizar gráficos de colunas e linhas para mostrar o desempenho de vendas ao longo do tempo e comparar diferentes categorias de produtos.\n",
    "\n",
    "- **Análise de Marketing**: Criar gráficos de dispersão para analisar a relação entre diferentes variáveis de campanhas de marketing, como investimento e retorno."
   ]
  },
  {
   "cell_type": "markdown",
   "id": "502ec574",
   "metadata": {},
   "source": [
    "## Exemplo de código executável (em Python) que ilustra a criação de gráficos com Matplotlib:"
   ]
  },
  {
   "cell_type": "code",
   "execution_count": null,
   "id": "6ac0e5b0",
   "metadata": {},
   "outputs": [],
   "source": [
    "import matplotlib.pyplot as plt\n",
    "\n",
    "# Dados fictícios\n",
    "categorias = ['A', 'B', 'C', 'D']\n",
    "valores = [23, 45, 56, 78]\n",
    "\n",
    "# Criando um gráfico de barras\n",
    "plt.bar(categorias, valores, color='blue')\n",
    "plt.xlabel('Categorias')\n",
    "plt.ylabel('Valores')\n",
    "plt.title('Gráfico de Barras Exemplo')\n",
    "plt.show()"
   ]
  },
  {
   "cell_type": "markdown",
   "id": "10d75b7f",
   "metadata": {},
   "source": [
    "***import matplotlib.pyplot as plt***: Importa a biblioteca Matplotlib, que é usada para criar visualizações de dados.\n",
    "\n",
    "**categorias** e **valores**: Define os dados fictícios que serão usados no gráfico.\n",
    "\n",
    "***plt.bar(categorias, valores, color='blue')***: Cria um gráfico de barras com as categorias e valores fornecidos, e define a cor das barras como azul.\n",
    "\n",
    "***plt.xlabel('Categorias')*** e ***plt.ylabel('Valores')***: Define os rótulos dos eixos X e Y.\n",
    "\n",
    "***plt.title('Gráfico de Barras Exemplo')***: Define o título do gráfico.\n",
    "\n",
    "***plt.show()***: Exibe o gráfico."
   ]
  }
 ],
 "metadata": {
  "kernelspec": {
   "display_name": ".venv",
   "language": "python",
   "name": "python3"
  },
  "language_info": {
   "name": "python",
   "version": "3.13.2"
  }
 },
 "nbformat": 4,
 "nbformat_minor": 5
}
