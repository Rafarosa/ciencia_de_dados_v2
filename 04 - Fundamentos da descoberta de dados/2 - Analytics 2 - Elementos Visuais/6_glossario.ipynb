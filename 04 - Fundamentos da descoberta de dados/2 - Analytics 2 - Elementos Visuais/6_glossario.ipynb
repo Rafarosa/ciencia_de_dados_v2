{
 "cells": [
  {
   "cell_type": "markdown",
   "id": "407f2374",
   "metadata": {},
   "source": [
    "# Glossário"
   ]
  },
  {
   "cell_type": "markdown",
   "id": "c0e37375",
   "metadata": {},
   "source": [
    "Lembre-se dos termos mais utilizados durante o módulo.\n",
    "\n",
    "### Box Plot\n",
    "Um tipo de gráfico que exibe a distribuição de um conjunto de dados através de seus quartis. Ele mostra a mediana, os quartis superior e inferior, e possíveis outliers, facilitando a comparação entre diferentes grupos.\n",
    "\n",
    "### Gráfico Combinado\n",
    "Um gráfico que permite a visualização de duas séries de dados diferentes simultaneamente, geralmente combinando gráficos de barras e linhas para mostrar relações complexas entre os dados.\n",
    "\n",
    "### Gráfico de Dispersão\n",
    "Um gráfico que mostra a relação entre duas variáveis, plotando pontos em um eixo cartesiano. É útil para identificar correlações e padrões entre variáveis.\n",
    "\n",
    "### Gráfico de Pizza\n",
    "Um gráfico circular que mostra partes proporcionais de um todo. Cada \"fatia\" representa uma categoria e seu tamanho é proporcional à contribuição dessa categoria para o total.\n",
    "\n",
    "### Plotly Express\n",
    "Uma biblioteca de visualização de dados em Python que permite a criação de gráficos interativos de forma simples e rápida. É conhecida por sua capacidade de gerar visualizações envolventes e informativas.\n",
    "\n",
    "### Visualização de Dados\n",
    "O processo de representar dados graficamente para facilitar a compreensão e a comunicação de informações complexas. Inclui a criação de gráficos, tabelas e outros elementos visuais que ajudam a contar uma história com os dados."
   ]
  }
 ],
 "metadata": {
  "language_info": {
   "name": "python"
  }
 },
 "nbformat": 4,
 "nbformat_minor": 5
}
