{
 "cells": [
  {
   "cell_type": "markdown",
   "metadata": {
    "id": "oRsiqY067PIY"
   },
   "source": [
    "# **MÓDULO 14 - Exercício**\n",
    "# Pré Processamento dos Dados - A primeira etapa Pré Modelagem"
   ]
  },
  {
   "cell_type": "markdown",
   "metadata": {
    "id": "z_xy2WNB7Zil"
   },
   "source": [
    "Para nossa atividade usaremos uma base de churn também, porém essa base não diz respeito a serviços bancários e sim serviços de internet, telefone e tv - Telecomunicação.\n",
    "\n",
    "Vamos realizar aqui as etapas de limpeza e tratamento de dados vistos durante a aula, porém aplicados a essa base nova."
   ]
  },
  {
   "cell_type": "code",
   "execution_count": 45,
   "metadata": {
    "id": "JT5cIPR07GqI"
   },
   "outputs": [],
   "source": [
    "import seaborn as sns\n",
    "import matplotlib.pyplot as plt\n",
    "import pandas as pd"
   ]
  },
  {
   "cell_type": "code",
   "execution_count": 63,
   "metadata": {
    "colab": {
     "base_uri": "https://localhost:8080/",
     "height": 556
    },
    "id": "YpQybbwr76nX",
    "outputId": "a91f3127-9300-4604-9411-e0820215a03b"
   },
   "outputs": [
    {
     "data": {
      "application/vnd.microsoft.datawrangler.viewer.v0+json": {
       "columns": [
        {
         "name": "index",
         "rawType": "int64",
         "type": "integer"
        },
        {
         "name": "customerID",
         "rawType": "object",
         "type": "string"
        },
        {
         "name": "Genero",
         "rawType": "object",
         "type": "unknown"
        },
        {
         "name": "Idoso",
         "rawType": "int64",
         "type": "integer"
        },
        {
         "name": "Casado",
         "rawType": "object",
         "type": "string"
        },
        {
         "name": "Dependents",
         "rawType": "object",
         "type": "string"
        },
        {
         "name": "Tempo_como_Cliente",
         "rawType": "int64",
         "type": "integer"
        },
        {
         "name": "PhoneService",
         "rawType": "object",
         "type": "string"
        },
        {
         "name": "Servico_Internet",
         "rawType": "object",
         "type": "string"
        },
        {
         "name": "Servico_Seguranca",
         "rawType": "object",
         "type": "string"
        },
        {
         "name": "Suporte_Tecnico",
         "rawType": "object",
         "type": "string"
        },
        {
         "name": "StreamingTV",
         "rawType": "object",
         "type": "string"
        },
        {
         "name": "Tipo_Contrato",
         "rawType": "object",
         "type": "string"
        },
        {
         "name": "PaymentMethod",
         "rawType": "object",
         "type": "string"
        },
        {
         "name": "Pagamento_Mensal",
         "rawType": "float64",
         "type": "float"
        },
        {
         "name": "Total_Pago",
         "rawType": "float64",
         "type": "float"
        },
        {
         "name": "Churn",
         "rawType": "object",
         "type": "unknown"
        }
       ],
       "conversionMethod": "pd.DataFrame",
       "ref": "c593e818-c5b1-469d-8440-d2ebdd5145e3",
       "rows": [
        [
         "0",
         "7590-VHVEG",
         "Female",
         "0",
         "Yes",
         "No",
         "1",
         "No",
         "DSL",
         "No",
         "No",
         "No",
         "Month-to-month",
         "Electronic check",
         "29.85",
         "29.85",
         "No"
        ],
        [
         "1",
         "5575-GNVDE",
         "Male",
         "0",
         "No",
         "No",
         "34",
         "Yes",
         "DSL",
         "Yes",
         "No",
         "No",
         "One year",
         "Mailed check",
         "56.95",
         "1889.5",
         "No"
        ],
        [
         "2",
         "3668-QPYBK",
         "Male",
         "0",
         "No",
         "No",
         "2",
         "Yes",
         "DSL",
         "Yes",
         "No",
         "No",
         "Month-to-month",
         "Mailed check",
         "53.85",
         "108.15",
         "Yes"
        ],
        [
         "3",
         "7795-CFOCW",
         "Male",
         "0",
         "No",
         "No",
         "45",
         "No",
         "DSL",
         "Yes",
         "Yes",
         "No",
         "One year",
         "Bank transfer (automatic)",
         null,
         "1840.75",
         "No"
        ],
        [
         "4",
         "9237-HQITU",
         null,
         "0",
         "No",
         "No",
         "2",
         "Yes",
         "Fiber optic",
         "No",
         "No",
         "No",
         "Month-to-month",
         "Electronic check",
         null,
         "151.65",
         "Yes"
        ],
        [
         "5",
         "9305-CDSKC",
         null,
         "0",
         "No",
         "No",
         "8",
         "Yes",
         "Fiber optic",
         "No",
         "No",
         "Yes",
         "Month-to-month",
         "Electronic check",
         null,
         "820.5",
         null
        ],
        [
         "6",
         "1452-KIOVK",
         null,
         "0",
         "No",
         "Yes",
         "22",
         "Yes",
         "Fiber optic",
         "No",
         "No",
         "Yes",
         "Month-to-month",
         "Credit card (automatic)",
         null,
         "1949.4",
         null
        ],
        [
         "7",
         "6713-OKOMC",
         null,
         "0",
         "No",
         "No",
         "10",
         "No",
         "DSL",
         "Yes",
         "No",
         "No",
         "Month-to-month",
         "Mailed check",
         null,
         "301.9",
         null
        ],
        [
         "8",
         "7892-POOKP",
         null,
         "0",
         "Yes",
         "No",
         "28",
         "Yes",
         "Fiber optic",
         "No",
         "Yes",
         "Yes",
         "Month-to-month",
         "Electronic check",
         null,
         "3046.05",
         null
        ],
        [
         "9",
         "6388-TABGU",
         null,
         "0",
         "No",
         "Yes",
         "62",
         "Yes",
         "dsl",
         "Yes",
         "No",
         "No",
         "One year",
         "Bank transfer (automatic)",
         null,
         "3487.95",
         null
        ]
       ],
       "shape": {
        "columns": 16,
        "rows": 10
       }
      },
      "text/html": [
       "<div>\n",
       "<style scoped>\n",
       "    .dataframe tbody tr th:only-of-type {\n",
       "        vertical-align: middle;\n",
       "    }\n",
       "\n",
       "    .dataframe tbody tr th {\n",
       "        vertical-align: top;\n",
       "    }\n",
       "\n",
       "    .dataframe thead th {\n",
       "        text-align: right;\n",
       "    }\n",
       "</style>\n",
       "<table border=\"1\" class=\"dataframe\">\n",
       "  <thead>\n",
       "    <tr style=\"text-align: right;\">\n",
       "      <th></th>\n",
       "      <th>customerID</th>\n",
       "      <th>Genero</th>\n",
       "      <th>Idoso</th>\n",
       "      <th>Casado</th>\n",
       "      <th>Dependents</th>\n",
       "      <th>Tempo_como_Cliente</th>\n",
       "      <th>PhoneService</th>\n",
       "      <th>Servico_Internet</th>\n",
       "      <th>Servico_Seguranca</th>\n",
       "      <th>Suporte_Tecnico</th>\n",
       "      <th>StreamingTV</th>\n",
       "      <th>Tipo_Contrato</th>\n",
       "      <th>PaymentMethod</th>\n",
       "      <th>Pagamento_Mensal</th>\n",
       "      <th>Total_Pago</th>\n",
       "      <th>Churn</th>\n",
       "    </tr>\n",
       "  </thead>\n",
       "  <tbody>\n",
       "    <tr>\n",
       "      <th>0</th>\n",
       "      <td>7590-VHVEG</td>\n",
       "      <td>Female</td>\n",
       "      <td>0</td>\n",
       "      <td>Yes</td>\n",
       "      <td>No</td>\n",
       "      <td>1</td>\n",
       "      <td>No</td>\n",
       "      <td>DSL</td>\n",
       "      <td>No</td>\n",
       "      <td>No</td>\n",
       "      <td>No</td>\n",
       "      <td>Month-to-month</td>\n",
       "      <td>Electronic check</td>\n",
       "      <td>29.85</td>\n",
       "      <td>29.85</td>\n",
       "      <td>No</td>\n",
       "    </tr>\n",
       "    <tr>\n",
       "      <th>1</th>\n",
       "      <td>5575-GNVDE</td>\n",
       "      <td>Male</td>\n",
       "      <td>0</td>\n",
       "      <td>No</td>\n",
       "      <td>No</td>\n",
       "      <td>34</td>\n",
       "      <td>Yes</td>\n",
       "      <td>DSL</td>\n",
       "      <td>Yes</td>\n",
       "      <td>No</td>\n",
       "      <td>No</td>\n",
       "      <td>One year</td>\n",
       "      <td>Mailed check</td>\n",
       "      <td>56.95</td>\n",
       "      <td>1889.50</td>\n",
       "      <td>No</td>\n",
       "    </tr>\n",
       "    <tr>\n",
       "      <th>2</th>\n",
       "      <td>3668-QPYBK</td>\n",
       "      <td>Male</td>\n",
       "      <td>0</td>\n",
       "      <td>No</td>\n",
       "      <td>No</td>\n",
       "      <td>2</td>\n",
       "      <td>Yes</td>\n",
       "      <td>DSL</td>\n",
       "      <td>Yes</td>\n",
       "      <td>No</td>\n",
       "      <td>No</td>\n",
       "      <td>Month-to-month</td>\n",
       "      <td>Mailed check</td>\n",
       "      <td>53.85</td>\n",
       "      <td>108.15</td>\n",
       "      <td>Yes</td>\n",
       "    </tr>\n",
       "    <tr>\n",
       "      <th>3</th>\n",
       "      <td>7795-CFOCW</td>\n",
       "      <td>Male</td>\n",
       "      <td>0</td>\n",
       "      <td>No</td>\n",
       "      <td>No</td>\n",
       "      <td>45</td>\n",
       "      <td>No</td>\n",
       "      <td>DSL</td>\n",
       "      <td>Yes</td>\n",
       "      <td>Yes</td>\n",
       "      <td>No</td>\n",
       "      <td>One year</td>\n",
       "      <td>Bank transfer (automatic)</td>\n",
       "      <td>NaN</td>\n",
       "      <td>1840.75</td>\n",
       "      <td>No</td>\n",
       "    </tr>\n",
       "    <tr>\n",
       "      <th>4</th>\n",
       "      <td>9237-HQITU</td>\n",
       "      <td>NaN</td>\n",
       "      <td>0</td>\n",
       "      <td>No</td>\n",
       "      <td>No</td>\n",
       "      <td>2</td>\n",
       "      <td>Yes</td>\n",
       "      <td>Fiber optic</td>\n",
       "      <td>No</td>\n",
       "      <td>No</td>\n",
       "      <td>No</td>\n",
       "      <td>Month-to-month</td>\n",
       "      <td>Electronic check</td>\n",
       "      <td>NaN</td>\n",
       "      <td>151.65</td>\n",
       "      <td>Yes</td>\n",
       "    </tr>\n",
       "    <tr>\n",
       "      <th>5</th>\n",
       "      <td>9305-CDSKC</td>\n",
       "      <td>NaN</td>\n",
       "      <td>0</td>\n",
       "      <td>No</td>\n",
       "      <td>No</td>\n",
       "      <td>8</td>\n",
       "      <td>Yes</td>\n",
       "      <td>Fiber optic</td>\n",
       "      <td>No</td>\n",
       "      <td>No</td>\n",
       "      <td>Yes</td>\n",
       "      <td>Month-to-month</td>\n",
       "      <td>Electronic check</td>\n",
       "      <td>NaN</td>\n",
       "      <td>820.50</td>\n",
       "      <td>NaN</td>\n",
       "    </tr>\n",
       "    <tr>\n",
       "      <th>6</th>\n",
       "      <td>1452-KIOVK</td>\n",
       "      <td>NaN</td>\n",
       "      <td>0</td>\n",
       "      <td>No</td>\n",
       "      <td>Yes</td>\n",
       "      <td>22</td>\n",
       "      <td>Yes</td>\n",
       "      <td>Fiber optic</td>\n",
       "      <td>No</td>\n",
       "      <td>No</td>\n",
       "      <td>Yes</td>\n",
       "      <td>Month-to-month</td>\n",
       "      <td>Credit card (automatic)</td>\n",
       "      <td>NaN</td>\n",
       "      <td>1949.40</td>\n",
       "      <td>NaN</td>\n",
       "    </tr>\n",
       "    <tr>\n",
       "      <th>7</th>\n",
       "      <td>6713-OKOMC</td>\n",
       "      <td>NaN</td>\n",
       "      <td>0</td>\n",
       "      <td>No</td>\n",
       "      <td>No</td>\n",
       "      <td>10</td>\n",
       "      <td>No</td>\n",
       "      <td>DSL</td>\n",
       "      <td>Yes</td>\n",
       "      <td>No</td>\n",
       "      <td>No</td>\n",
       "      <td>Month-to-month</td>\n",
       "      <td>Mailed check</td>\n",
       "      <td>NaN</td>\n",
       "      <td>301.90</td>\n",
       "      <td>NaN</td>\n",
       "    </tr>\n",
       "    <tr>\n",
       "      <th>8</th>\n",
       "      <td>7892-POOKP</td>\n",
       "      <td>NaN</td>\n",
       "      <td>0</td>\n",
       "      <td>Yes</td>\n",
       "      <td>No</td>\n",
       "      <td>28</td>\n",
       "      <td>Yes</td>\n",
       "      <td>Fiber optic</td>\n",
       "      <td>No</td>\n",
       "      <td>Yes</td>\n",
       "      <td>Yes</td>\n",
       "      <td>Month-to-month</td>\n",
       "      <td>Electronic check</td>\n",
       "      <td>NaN</td>\n",
       "      <td>3046.05</td>\n",
       "      <td>NaN</td>\n",
       "    </tr>\n",
       "    <tr>\n",
       "      <th>9</th>\n",
       "      <td>6388-TABGU</td>\n",
       "      <td>NaN</td>\n",
       "      <td>0</td>\n",
       "      <td>No</td>\n",
       "      <td>Yes</td>\n",
       "      <td>62</td>\n",
       "      <td>Yes</td>\n",
       "      <td>dsl</td>\n",
       "      <td>Yes</td>\n",
       "      <td>No</td>\n",
       "      <td>No</td>\n",
       "      <td>One year</td>\n",
       "      <td>Bank transfer (automatic)</td>\n",
       "      <td>NaN</td>\n",
       "      <td>3487.95</td>\n",
       "      <td>NaN</td>\n",
       "    </tr>\n",
       "  </tbody>\n",
       "</table>\n",
       "</div>"
      ],
      "text/plain": [
       "   customerID  Genero  Idoso Casado Dependents  Tempo_como_Cliente  \\\n",
       "0  7590-VHVEG  Female      0    Yes         No                   1   \n",
       "1  5575-GNVDE    Male      0     No         No                  34   \n",
       "2  3668-QPYBK    Male      0     No         No                   2   \n",
       "3  7795-CFOCW    Male      0     No         No                  45   \n",
       "4  9237-HQITU     NaN      0     No         No                   2   \n",
       "5  9305-CDSKC     NaN      0     No         No                   8   \n",
       "6  1452-KIOVK     NaN      0     No        Yes                  22   \n",
       "7  6713-OKOMC     NaN      0     No         No                  10   \n",
       "8  7892-POOKP     NaN      0    Yes         No                  28   \n",
       "9  6388-TABGU     NaN      0     No        Yes                  62   \n",
       "\n",
       "  PhoneService Servico_Internet Servico_Seguranca Suporte_Tecnico StreamingTV  \\\n",
       "0           No              DSL                No              No          No   \n",
       "1          Yes              DSL               Yes              No          No   \n",
       "2          Yes              DSL               Yes              No          No   \n",
       "3           No              DSL               Yes             Yes          No   \n",
       "4          Yes      Fiber optic                No              No          No   \n",
       "5          Yes      Fiber optic                No              No         Yes   \n",
       "6          Yes      Fiber optic                No              No         Yes   \n",
       "7           No              DSL               Yes              No          No   \n",
       "8          Yes      Fiber optic                No             Yes         Yes   \n",
       "9          Yes              dsl               Yes              No          No   \n",
       "\n",
       "    Tipo_Contrato              PaymentMethod  Pagamento_Mensal  Total_Pago  \\\n",
       "0  Month-to-month           Electronic check             29.85       29.85   \n",
       "1        One year               Mailed check             56.95     1889.50   \n",
       "2  Month-to-month               Mailed check             53.85      108.15   \n",
       "3        One year  Bank transfer (automatic)               NaN     1840.75   \n",
       "4  Month-to-month           Electronic check               NaN      151.65   \n",
       "5  Month-to-month           Electronic check               NaN      820.50   \n",
       "6  Month-to-month    Credit card (automatic)               NaN     1949.40   \n",
       "7  Month-to-month               Mailed check               NaN      301.90   \n",
       "8  Month-to-month           Electronic check               NaN     3046.05   \n",
       "9        One year  Bank transfer (automatic)               NaN     3487.95   \n",
       "\n",
       "  Churn  \n",
       "0    No  \n",
       "1    No  \n",
       "2   Yes  \n",
       "3    No  \n",
       "4   Yes  \n",
       "5   NaN  \n",
       "6   NaN  \n",
       "7   NaN  \n",
       "8   NaN  \n",
       "9   NaN  "
      ]
     },
     "execution_count": 63,
     "metadata": {},
     "output_type": "execute_result"
    }
   ],
   "source": [
    "#Lembrem-se sempre de alterar a importação dos dados de acordo com o diretório de vocês.\n",
    "df = pd.read_csv(r\"..\\Pratica\\CHURN_TELECON_MOD08_TAREFA.csv\", delimiter=';')\n",
    "\n",
    "df.head(10)"
   ]
  },
  {
   "cell_type": "markdown",
   "metadata": {
    "id": "-Cmll45c8TGu"
   },
   "source": [
    "Legenda dos dados:\n",
    "\n",
    "*   **CustomerID** : Esse é o ID único de cada cliente nosso da rede de produtos de telecomunicação.\n",
    "\n",
    "*   **Genero** : O genero dos nossos clientes.\n",
    "\n",
    "*   **Idoso** : Se nosso cliente tem acima de 60 anos ou não. (Sim = 1 | Não = 0)\n",
    "\n",
    "*   **Casado** : Se nosso cliente é casado ou não.\n",
    "\n",
    "*   **Dependents** : Se cliente tem dependentes.\n",
    "\n",
    "*   **Tempo_como_Cliente** : Tempo em meses que nosso cliente está com a nossa empresa.\n",
    "\n",
    "*   **PhoneService** : Se ele contratou serviço telefônico com a nossa empresa.\n",
    "\n",
    "*   **Servico_Internet** : Qual o tipo de serviço de internet contratado.\n",
    "\n",
    "*   **Servico_Seguranca** : Se ele contratou serviço de segurança com a nossa empresa.\n",
    "\n",
    "*   **Suporte_Tecnico** : Se já acionou o suporte técnico.\n",
    "\n",
    "*   **StreamingTV** : Se ele contratou serviço de streaming para TV.\n",
    "\n",
    "*   **Tipo_Contrato** : Qual o tipo de contrato dos nossos clientes, se era mensal, anual etc.\n",
    "\n",
    "*   **Tipo_Contrato** : Qual o tipo de contrato dos nossos clientes, se era mensal, anual etc.\n",
    "\n",
    "*   **PaymentMethod** : Forma de Pagamento.\n",
    "\n",
    "*   **Pagamento_Mensal** : Quanto o cliente pagava mensalmente.\n",
    "\n",
    "*   **Total_Pago** : Total já pago pelo cliente para nossa companhia.\n",
    "\n",
    "*   **Churn** : Nossa coluna mais importante, se nosso cliente nos abandonou ou não.\n",
    "\n",
    "\n"
   ]
  },
  {
   "cell_type": "markdown",
   "metadata": {
    "id": "2aZL5edn-Sxy"
   },
   "source": [
    "# 1 - Carregue a base, verifique se os tipos de dados estão de acordo com cada coluna e caso não estejam realize a transformação dos tipos de dados."
   ]
  },
  {
   "cell_type": "code",
   "execution_count": 64,
   "metadata": {
    "id": "uVbeG6vJ-ao3"
   },
   "outputs": [
    {
     "name": "stdout",
     "output_type": "stream",
     "text": [
      "<class 'pandas.core.frame.DataFrame'>\n",
      "RangeIndex: 2500 entries, 0 to 2499\n",
      "Data columns (total 16 columns):\n",
      " #   Column              Non-Null Count  Dtype  \n",
      "---  ------              --------------  -----  \n",
      " 0   customerID          2500 non-null   object \n",
      " 1   Genero              2488 non-null   object \n",
      " 2   Idoso               2500 non-null   int64  \n",
      " 3   Casado              2500 non-null   object \n",
      " 4   Dependents          2500 non-null   object \n",
      " 5   Tempo_como_Cliente  2500 non-null   int64  \n",
      " 6   PhoneService        1018 non-null   object \n",
      " 7   Servico_Internet    2500 non-null   object \n",
      " 8   Servico_Seguranca   2500 non-null   object \n",
      " 9   Suporte_Tecnico     2500 non-null   object \n",
      " 10  StreamingTV         2500 non-null   object \n",
      " 11  Tipo_Contrato       2500 non-null   object \n",
      " 12  PaymentMethod       2500 non-null   object \n",
      " 13  Pagamento_Mensal    2175 non-null   float64\n",
      " 14  Total_Pago          2500 non-null   float64\n",
      " 15  Churn               2495 non-null   object \n",
      "dtypes: float64(2), int64(2), object(12)\n",
      "memory usage: 312.6+ KB\n",
      "None\n",
      "Para a coluna customerID, temos os seguintes valores unicos ['7590-VHVEG' '5575-GNVDE' '3668-QPYBK' ... '5702-SKUOB' '1134-YWTYF'\n",
      " '6061-GWWAV']\n",
      "=====================================\n",
      "Para a coluna Genero, temos os seguintes valores unicos ['Female' 'Male' nan 'F' 'M' 'f']\n",
      "=====================================\n",
      "Para a coluna Idoso, temos os seguintes valores unicos [0 1]\n",
      "=====================================\n",
      "Para a coluna Casado, temos os seguintes valores unicos ['Yes' 'No']\n",
      "=====================================\n",
      "Para a coluna Dependents, temos os seguintes valores unicos ['No' 'Yes']\n",
      "=====================================\n",
      "Para a coluna Tempo_como_Cliente, temos os seguintes valores unicos [ 1 34  2 45  8 22 10 28 62 13 16 58 49 25 69 52 71 21 12 30 47 72 17 27\n",
      "  5 46 11 70 63 43 15 60 18 66  9  3 31 50 64 56  7 42 35 48 29 65 38 68\n",
      " 32 55 37 36 41  6  4 33 67 23 57 61 14 20 53 40 59 24 44 19 54 51 26  0\n",
      " 39]\n",
      "=====================================\n",
      "Para a coluna PhoneService, temos os seguintes valores unicos ['No' 'Yes' nan]\n",
      "=====================================\n",
      "Para a coluna Servico_Internet, temos os seguintes valores unicos ['DSL' 'Fiber optic' 'dsl' 'No']\n",
      "=====================================\n",
      "Para a coluna Servico_Seguranca, temos os seguintes valores unicos ['No' 'Yes' 'No internet service']\n",
      "=====================================\n",
      "Para a coluna Suporte_Tecnico, temos os seguintes valores unicos ['No' 'Yes' 'No internet service']\n",
      "=====================================\n",
      "Para a coluna StreamingTV, temos os seguintes valores unicos ['No' 'Yes' 'No internet service']\n",
      "=====================================\n",
      "Para a coluna Tipo_Contrato, temos os seguintes valores unicos ['Month-to-month' 'One year' 'Two year']\n",
      "=====================================\n",
      "Para a coluna PaymentMethod, temos os seguintes valores unicos ['Electronic check' 'Mailed check' 'Bank transfer (automatic)'\n",
      " 'Credit card (automatic)']\n",
      "=====================================\n",
      "Para a coluna Pagamento_Mensal, temos os seguintes valores unicos [ 29.85  56.95  53.85 ...  98.4  100.7   60.45]\n",
      "=====================================\n",
      "Para a coluna Total_Pago, temos os seguintes valores unicos [  29.85 1889.5   108.15 ...   93.45 1389.85 2894.55]\n",
      "=====================================\n",
      "Para a coluna Churn, temos os seguintes valores unicos ['No' 'Yes' nan]\n",
      "=====================================\n"
     ]
    }
   ],
   "source": [
    "#seu código aqui\n",
    "#Carregar a base e verficar os tipos de dados existentes\n",
    "print(df.info())\n",
    "\n",
    "# Agora que temos os Dtypes, vamos verificar os dados unicos que tem em cada coluna\n",
    "colunas = df.columns\n",
    "for i in colunas:\n",
    "\n",
    "    print(f'Para a coluna {i}, temos os seguintes valores unicos {df[i].unique()}')\n",
    "    print(\"=====================================\")\n",
    "\n"
   ]
  },
  {
   "cell_type": "markdown",
   "metadata": {},
   "source": [
    "### Analise sobre os dados da base\n",
    "Pelo retorno dos dados únicos, poderíamos descartar qualquer avaliação de mudança nas colunas 'customerID', 'Genero', 'Tempo_como_Cliente', 'Pagamento_Mensal' e \n",
    "'Total_Pago', pois são dados que apresentam uma correspondência adequada para seus valores.\n",
    "\n",
    "Agora as colunas 'Casado', 'Dependents', 'PhoneService', 'Servico_Seguranca', 'Suporte_Tecnico', 'StreamingTV' e 'Churn', podem ser transformadas.\n",
    "Avalio que possam ser transformados em binários (0 e 1), onde 0 = Não e 1 = Sim.\n",
    "\n",
    "OBS:\n",
    "As colunas 'Servico_Seguranca', 'Suporte_Tecnico' e 'StreamingTV'. iram receber o valor 0 para a descrição de 'No internet service'.\n",
    "Motivo:\n",
    "  1) Na coluna 'Servico_Internet' já existe a informação de clinetes que não possuem o serviço de internet. tornando dados redundantes\n",
    "  2) Serviços de segurança e suporte técnico, não necessariamente dependentes exclusivamente do serviço de internet.\n"
   ]
  },
  {
   "cell_type": "code",
   "execution_count": 65,
   "metadata": {},
   "outputs": [
    {
     "name": "stdout",
     "output_type": "stream",
     "text": [
      "<class 'pandas.core.frame.DataFrame'>\n",
      "RangeIndex: 2500 entries, 0 to 2499\n",
      "Data columns (total 16 columns):\n",
      " #   Column              Non-Null Count  Dtype  \n",
      "---  ------              --------------  -----  \n",
      " 0   customerID          2500 non-null   object \n",
      " 1   Genero              2488 non-null   object \n",
      " 2   Idoso               2500 non-null   int64  \n",
      " 3   Casado              2500 non-null   int64  \n",
      " 4   Dependents          2500 non-null   int64  \n",
      " 5   Tempo_como_Cliente  2500 non-null   int64  \n",
      " 6   PhoneService        1018 non-null   float64\n",
      " 7   Servico_Internet    2500 non-null   object \n",
      " 8   Servico_Seguranca   2500 non-null   int64  \n",
      " 9   Suporte_Tecnico     2500 non-null   int64  \n",
      " 10  StreamingTV         2500 non-null   int64  \n",
      " 11  Tipo_Contrato       2500 non-null   object \n",
      " 12  PaymentMethod       2500 non-null   object \n",
      " 13  Pagamento_Mensal    2175 non-null   float64\n",
      " 14  Total_Pago          2500 non-null   float64\n",
      " 15  Churn               2495 non-null   float64\n",
      "dtypes: float64(4), int64(7), object(5)\n",
      "memory usage: 312.6+ KB\n",
      "None\n",
      "Para a coluna customerID, temos os seguintes valores unicos ['7590-VHVEG' '5575-GNVDE' '3668-QPYBK' ... '5702-SKUOB' '1134-YWTYF'\n",
      " '6061-GWWAV']\n",
      "=====================================\n",
      "Para a coluna Genero, temos os seguintes valores unicos ['Female' 'Male' nan 'F' 'M' 'f']\n",
      "=====================================\n",
      "Para a coluna Idoso, temos os seguintes valores unicos [0 1]\n",
      "=====================================\n",
      "Para a coluna Casado, temos os seguintes valores unicos [1 0]\n",
      "=====================================\n",
      "Para a coluna Dependents, temos os seguintes valores unicos [0 1]\n",
      "=====================================\n",
      "Para a coluna Tempo_como_Cliente, temos os seguintes valores unicos [ 1 34  2 45  8 22 10 28 62 13 16 58 49 25 69 52 71 21 12 30 47 72 17 27\n",
      "  5 46 11 70 63 43 15 60 18 66  9  3 31 50 64 56  7 42 35 48 29 65 38 68\n",
      " 32 55 37 36 41  6  4 33 67 23 57 61 14 20 53 40 59 24 44 19 54 51 26  0\n",
      " 39]\n",
      "=====================================\n",
      "Para a coluna PhoneService, temos os seguintes valores unicos [ 0.  1. nan]\n",
      "=====================================\n",
      "Para a coluna Servico_Internet, temos os seguintes valores unicos ['DSL' 'Fiber optic' 'dsl' 'No']\n",
      "=====================================\n",
      "Para a coluna Servico_Seguranca, temos os seguintes valores unicos [0 1]\n",
      "=====================================\n",
      "Para a coluna Suporte_Tecnico, temos os seguintes valores unicos [0 1]\n",
      "=====================================\n",
      "Para a coluna StreamingTV, temos os seguintes valores unicos [0 1]\n",
      "=====================================\n",
      "Para a coluna Tipo_Contrato, temos os seguintes valores unicos ['Month-to-month' 'One year' 'Two year']\n",
      "=====================================\n",
      "Para a coluna PaymentMethod, temos os seguintes valores unicos ['Electronic check' 'Mailed check' 'Bank transfer (automatic)'\n",
      " 'Credit card (automatic)']\n",
      "=====================================\n",
      "Para a coluna Pagamento_Mensal, temos os seguintes valores unicos [ 29.85  56.95  53.85 ...  98.4  100.7   60.45]\n",
      "=====================================\n",
      "Para a coluna Total_Pago, temos os seguintes valores unicos [  29.85 1889.5   108.15 ...   93.45 1389.85 2894.55]\n",
      "=====================================\n",
      "Para a coluna Churn, temos os seguintes valores unicos [ 0.  1. nan]\n",
      "=====================================\n"
     ]
    }
   ],
   "source": [
    "# Transformando os dados \n",
    "# Casado\n",
    "df['Casado'] = df['Casado'].map({'Yes': 1, 'No': 0})\n",
    "\n",
    "#Dependents\n",
    "df['Dependents'] = df['Dependents'].map({'Yes': 1, 'No': 0})\n",
    "\n",
    "#PhoneService\n",
    "df['PhoneService'] = df['PhoneService'].map({'Yes': 1, 'No': 0})\n",
    "\n",
    "#Servico_Seguranca\n",
    "df['Servico_Seguranca'] = df['Servico_Seguranca'].map({'Yes': 1, 'No': 0, 'No internet service' : 0})\n",
    "\n",
    "#Suporte_Tecnico\n",
    "df['Suporte_Tecnico'] = df['Suporte_Tecnico'].map({'Yes': 1, 'No': 0, 'No internet service' : 0})\n",
    "\n",
    "#StreamingTV\n",
    "df['StreamingTV'] = df['StreamingTV'].map({'Yes': 1, 'No': 0, 'No internet service' : 0})\n",
    "\n",
    "#Churn\n",
    "df['Churn'] = df['Churn'].map({'Yes': 1, 'No': 0})\n",
    "\n",
    "# Agora que temos os dados transformados, vamos verificar se realmente foram transformados\n",
    "print(df.info())\n",
    "\n",
    "colunas = df.columns\n",
    "for i in colunas:\n",
    "\n",
    "    print(f'Para a coluna {i}, temos os seguintes valores unicos {df[i].unique()}')\n",
    "    print(\"=====================================\")"
   ]
  },
  {
   "cell_type": "markdown",
   "metadata": {
    "id": "cu4kjiXn_w9t"
   },
   "source": [
    "# 2 - Esse exercício faremos por etapas:\n",
    "A) Verifique se temos colunas com dados faltantes e traga a % dos dados faltantes por coluna."
   ]
  },
  {
   "cell_type": "code",
   "execution_count": 66,
   "metadata": {
    "id": "nNYLgakRDPr2"
   },
   "outputs": [
    {
     "name": "stdout",
     "output_type": "stream",
     "text": [
      "Existem valores nulos na base?: True \n",
      "\n",
      "Dados quantitativos de nulos : \n",
      "customerID               0\n",
      "Genero                  12\n",
      "Idoso                    0\n",
      "Casado                   0\n",
      "Dependents               0\n",
      "Tempo_como_Cliente       0\n",
      "PhoneService          1482\n",
      "Servico_Internet         0\n",
      "Servico_Seguranca        0\n",
      "Suporte_Tecnico          0\n",
      "StreamingTV              0\n",
      "Tipo_Contrato            0\n",
      "PaymentMethod            0\n",
      "Pagamento_Mensal       325\n",
      "Total_Pago               0\n",
      "Churn                    5\n",
      "dtype: int64\n",
      "\n",
      "Percentual de dados nulos: \n",
      "customerID             0.00\n",
      "Genero                 0.48\n",
      "Idoso                  0.00\n",
      "Casado                 0.00\n",
      "Dependents             0.00\n",
      "Tempo_como_Cliente     0.00\n",
      "PhoneService          59.28\n",
      "Servico_Internet       0.00\n",
      "Servico_Seguranca      0.00\n",
      "Suporte_Tecnico        0.00\n",
      "StreamingTV            0.00\n",
      "Tipo_Contrato          0.00\n",
      "PaymentMethod          0.00\n",
      "Pagamento_Mensal      13.00\n",
      "Total_Pago             0.00\n",
      "Churn                  0.20\n",
      "dtype: float64\n",
      "\n"
     ]
    }
   ],
   "source": [
    "#seu código aqui\n",
    "# existem valores nulos na base?\n",
    "print(f'Existem valores nulos na base?: {df.isnull().values.any()} \\n')\n",
    "\n",
    "#Qual a quantidade de valor nulos por coluna?\n",
    "print(f'Dados quantitativos de nulos : \\n{df.isnull().sum()}\\n')\n",
    "\n",
    "# Qual a porcentagem de valores nulos por coluna?\n",
    "print(f'Percentual de dados nulos: \\n{(df.isnull().sum()/len(df))*100}\\n')"
   ]
  },
  {
   "cell_type": "markdown",
   "metadata": {
    "id": "HzzZHCVO_8b9"
   },
   "source": [
    "B) Exclua nessa etapa as linhas das colunas com dados faltantes que você analisar que esse método é o ideal. Justifique o motivo de estar excluindo essas linhas."
   ]
  },
  {
   "cell_type": "markdown",
   "metadata": {},
   "source": [
    "### Justificativa da exclusão\n",
    "\n",
    "Avaliando as boas praticas em função da quantidade de dados da amostra que temos. iremos apagar as linhas com dados faltantes nas colunas 'Genero' e 'Churn'.\n",
    "\n"
   ]
  },
  {
   "cell_type": "code",
   "execution_count": null,
   "metadata": {
    "id": "bDZTgNy8ECwu"
   },
   "outputs": [],
   "source": [
    "#seu código aqui\n"
   ]
  },
  {
   "cell_type": "markdown",
   "metadata": {
    "id": "plAEzGoMAP16"
   },
   "source": [
    "C) Nessa etapa substitua pela média, mediana ou moda as linhas das colunas com valores faltantes que você analisou e entendeu que esse era o melhor método. Não se esqueça de justificar sua escolha."
   ]
  },
  {
   "cell_type": "markdown",
   "metadata": {
    "id": "9S7O7GzoEevG"
   },
   "source": [
    "**Dica variáveis numéricas:** Não se esqueça de verificar a distrbuição dos dados, média e mediana."
   ]
  },
  {
   "cell_type": "markdown",
   "metadata": {
    "id": "MuhfrNV5FGDY"
   },
   "source": [
    "**Dica variáveis categóricas:** Caso precise substituir uma variável categórica utilize um gráfico de barras para verificar a que mais aparece e utilizar ela na substituição.\n",
    "Ou você pode optar por excluir a coluna, mas justifique sua escolha.\n",
    "\n",
    "Caso opte por substituir você pode utilizar a função fillna:\n",
    "df['SUACOLUNA'].fillna(\"VALOR QUE SUBSTITUIRA O NULO\", inplace=True)\n",
    "Ela funcionará como a replace."
   ]
  },
  {
   "cell_type": "code",
   "execution_count": 51,
   "metadata": {
    "id": "f9xdpik_ERw1"
   },
   "outputs": [],
   "source": [
    "#seu código aqui"
   ]
  },
  {
   "cell_type": "markdown",
   "metadata": {
    "id": "KyM7bzIWAevH"
   },
   "source": [
    "# 3 - Verifique se encontramos valores digitados incorretamente, ou com letras maiusculas ou minusculas, ou até mesmo mesmos valores porém escritos de forma dirente e corrija."
   ]
  },
  {
   "cell_type": "code",
   "execution_count": null,
   "metadata": {
    "id": "pBLJpzXXGTcq"
   },
   "outputs": [],
   "source": [
    "#seu código aqui"
   ]
  },
  {
   "cell_type": "markdown",
   "metadata": {
    "id": "C-2vJktpA0r7"
   },
   "source": [
    "# [EXTRA] 4 - Caso deseje, para manter um padrão na sua base, renomeie as colunas ou deixand"
   ]
  }
 ],
 "metadata": {
  "colab": {
   "provenance": []
  },
  "kernelspec": {
   "display_name": ".venv",
   "language": "python",
   "name": "python3"
  },
  "language_info": {
   "codemirror_mode": {
    "name": "ipython",
    "version": 3
   },
   "file_extension": ".py",
   "mimetype": "text/x-python",
   "name": "python",
   "nbconvert_exporter": "python",
   "pygments_lexer": "ipython3",
   "version": "3.13.2"
  }
 },
 "nbformat": 4,
 "nbformat_minor": 0
}
