{
 "cells": [
  {
   "cell_type": "markdown",
   "id": "3d75bdd2",
   "metadata": {},
   "source": [
    "# Boas Práticas\n",
    "\n",
    "Nesta seção você encontrará informações importantes que te ajudarão a aplicar efetivamente o que aprendeu."
   ]
  },
  {
   "cell_type": "markdown",
   "id": "dfa50c95",
   "metadata": {},
   "source": [
    "### Padronização de Dados\n",
    "A padronização de dados é crucial para garantir a consistência e a comparabilidade dos dados. Isso inclui a padronização de nomes de colunas, a correção de erros de digitação e a formatação consistente dos dados. Padronizar os dados facilita a análise e a modelagem subsequente."
   ]
  },
  {
   "cell_type": "markdown",
   "id": "49c19dd8",
   "metadata": {},
   "source": [
    "### Tratamento de Valores Ausentes\n",
    "Identificar e tratar valores ausentes é essencial para evitar viés e garantir a precisão dos modelos preditivos. Técnicas como a exclusão de linhas com valores nulos ou a substituição desses valores pela média ou mediana são práticas comuns."
   ]
  },
  {
   "cell_type": "markdown",
   "id": "0f88eb7a",
   "metadata": {},
   "source": [
    "### Verificação e Correção de Tipos de Dados\n",
    "Verificar e corrigir os tipos de dados é fundamental para análises preditivas precisas. A conversão de strings em números e a correção de tipos de dados incorretos garantem que os dados sejam interpretados corretamente pelos modelos."
   ]
  },
  {
   "cell_type": "markdown",
   "id": "a513cbea",
   "metadata": {},
   "source": [
    "### Identificação e Tratamento de Outliers\n",
    "Outliers podem distorcer análises e modelos preditivos. Identificar e tratar outliers, seja removendo-os ou transformando-os, ajuda a melhorar a qualidade dos dados e a precisão das análises."
   ]
  },
  {
   "cell_type": "markdown",
   "id": "b44ab8ac",
   "metadata": {},
   "source": [
    "### Exemplo de utilização no mercado de trabalho:\n",
    "**Setor Financeiro**: No setor financeiro, a padronização e a verificação de tipos de dados são essenciais para análises de crédito e detecção de fraudes. Dados inconsistentes podem levar a decisões erradas e prejuízos financeiros.\n",
    "\n",
    "\n",
    "**Telecomunicações**: Em telecomunicações, o tratamento de valores ausentes e a análise de churn são cruciais para prever a rotatividade de clientes e desenvolver estratégias de retenção."
   ]
  },
  {
   "cell_type": "markdown",
   "id": "501aeb7a",
   "metadata": {},
   "source": [
    "### Exemplo de código executável (em Python) que ilustra o pré-processamento de dados:"
   ]
  },
  {
   "cell_type": "code",
   "execution_count": null,
   "id": "323b4ad0",
   "metadata": {},
   "outputs": [],
   "source": [
    "import pandas as pd\n",
    "\n",
    "# Carregar dados\n",
    "df = pd.read_csv('dados.csv')\n",
    "\n",
    "# Verificar tipos de dados\n",
    "print(df.info())\n",
    "\n",
    "# Corrigir tipos de dados\n",
    "df['salario_anual'] = df['salario_anual'].str.replace(',', '').astype(float)\n",
    "\n",
    "# Identificar valores nulos\n",
    "print(df.isnull().sum())\n",
    "\n",
    "# Substituir valores nulos pela mediana\n",
    "df['salario_anual'].fillna(df['salario_anual'].median(), inplace=True)\n",
    "\n",
    "# Padronizar nomes de colunas\n",
    "df.columns = [col.lower().replace(' ', '_') for col in df.columns]\n",
    "\n",
    "# Exibir dados pré-processados\n",
    "print(df.head())"
   ]
  },
  {
   "cell_type": "markdown",
   "id": "980559e0",
   "metadata": {},
   "source": [
    "Vamos discutir o código passo-a-passo:\n",
    "\n",
    "`pd.read_csv('dados.csv')`: Carrega os dados de um arquivo CSV.\n",
    "\n",
    "`df.info()`: Verifica os tipos de dados e a presença de valores nulos.\n",
    "\n",
    "`df['salario_anual'].str.replace(',', '').astype(float)`: Remove vírgulas e converte a coluna de salário anual para o tipo float.\n",
    "\n",
    "`df.isnull().sum()`: Identifica a quantidade de valores nulos em cada coluna.\n",
    "\n",
    "`df['salario_anual'].fillna(df['salario_anual'].median(), inplace=True)`: Substitui valores nulos na coluna de salário anual pela mediana.\n",
    "\n",
    "`df.columns = [col.lower().replace(' ', '_') for col in df.columns]`: Padroniza os nomes das colunas, convertendo para minúsculas e substituindo espaços por underscores.\n",
    "\n",
    "`df.head()`: Exibe as primeiras linhas do DataFrame pré-processado."
   ]
  }
 ],
 "metadata": {
  "kernelspec": {
   "display_name": ".venv",
   "language": "python",
   "name": "python3"
  },
  "language_info": {
   "name": "python",
   "version": "3.13.2"
  }
 },
 "nbformat": 4,
 "nbformat_minor": 5
}
