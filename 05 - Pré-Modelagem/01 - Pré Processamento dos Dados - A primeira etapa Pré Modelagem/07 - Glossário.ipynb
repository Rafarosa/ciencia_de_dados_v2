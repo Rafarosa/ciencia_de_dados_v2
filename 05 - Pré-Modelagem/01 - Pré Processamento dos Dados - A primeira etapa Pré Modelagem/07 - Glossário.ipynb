{
 "cells": [
  {
   "cell_type": "markdown",
   "id": "5e5991cf",
   "metadata": {},
   "source": [
    "# Glossário\n",
    "Lembre-se dos termos mais utilizados durante o módulo."
   ]
  },
  {
   "cell_type": "markdown",
   "id": "4bfe3ec3",
   "metadata": {},
   "source": [
    "### Churn\n",
    "\n",
    "Refere-se à taxa de rotatividade de clientes, ou seja, a proporção de clientes que deixam de usar um serviço ou produto em um determinado período. Na análise de dados, prever o churn é crucial para estratégias de retenção de clientes."
   ]
  },
  {
   "cell_type": "markdown",
   "id": "d03974a0",
   "metadata": {},
   "source": [
    "### DataFrame\n",
    "Uma estrutura de dados bidimensional, semelhante a uma tabela, usada em bibliotecas como Pandas para armazenar e manipular dados. Cada coluna em um DataFrame pode conter diferentes tipos de dados."
   ]
  },
  {
   "cell_type": "markdown",
   "id": "e1425417",
   "metadata": {},
   "source": [
    "### dtype\n",
    "Abreviação de \"data type\" (tipo de dado), é um atributo em bibliotecas como Pandas que indica o tipo de dados armazenados em uma coluna de um DataFrame, como int, float, ou object."
   ]
  },
  {
   "cell_type": "markdown",
   "id": "15ac2fb7",
   "metadata": {},
   "source": [
    "### Outlier\n",
    "Um valor que se diferencia significativamente dos outros valores em um conjunto de dados. Outliers podem distorcer análises estatísticas e modelos preditivos, sendo frequentemente identificados e tratados durante o pré-processamento de dados."
   ]
  },
  {
   "cell_type": "markdown",
   "id": "70ab6b87",
   "metadata": {},
   "source": [
    "### Padronização\n",
    "O processo de transformar dados para que sigam um formato ou escala comum. Isso pode incluir a normalização de valores, a uniformização de nomes de colunas e a correção de inconsistências na formatação."
   ]
  },
  {
   "cell_type": "markdown",
   "id": "866a5e56",
   "metadata": {},
   "source": [
    "### Pré-processamento\n",
    "Conjunto de técnicas e práticas aplicadas para transformar dados brutos em dados prontos para análise. Inclui a limpeza de dados, tratamento de valores ausentes, padronização e correção de tipos de dados."
   ]
  }
 ],
 "metadata": {
  "language_info": {
   "name": "python"
  }
 },
 "nbformat": 4,
 "nbformat_minor": 5
}
