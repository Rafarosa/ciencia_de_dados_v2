{
 "cells": [
  {
   "cell_type": "markdown",
   "metadata": {},
   "source": [
    "# Prática"
   ]
  },
  {
   "cell_type": "markdown",
   "metadata": {},
   "source": [
    "1 - Utilize o comando 'input' para receber ao menos 2 números de entrada do usuário;\n",
    "\n",
    "2 - Converta os valores recebidos pelo usuário para número inteiro (int) ou ponto flutuante (float);\n",
    "\n",
    "3 - Implemente ao menos 4 operações matemáticas em seu código;\n",
    "\n",
    "4 - Adicione um laço de repetição ou uma condicional. Por exemplo: você pode permitir que o usuário escolha qual operação realizar ou criar um loop que permita ao usuário realizar várias operações consecutivas;\n",
    "\n",
    "5 - Utilize o comando 'print' para exibir o resultado da operação matemática."
   ]
  },
  {
   "cell_type": "code",
   "execution_count": 1,
   "metadata": {},
   "outputs": [
    {
     "name": "stdout",
     "output_type": "stream",
     "text": [
      "Os números digitados foram 23 e 43. e são do tipo <class 'str'> e <class 'str'>.\n",
      "Os números digitados foram 23.0 e 43.0. e são do tipo <class 'float'> e <class 'float'>.\n"
     ]
    }
   ],
   "source": [
    "# 1 Utilize o comando 'input' para receber ao menos 2 números de entrada do usuário\n",
    "# 2 - Converta os valores recebidos pelo usuário para número inteiro (int) ou ponto flutuante (float);\n",
    "\n",
    "num1 = input(\"Digite o primeiro número: \")\n",
    "num2 = input(\"Digite o segundo número: \")\n",
    "print(f\"Os números digitados foram {num1} e {num2}. e são do tipo {type(num1)} e {type(num2)}.\")\n",
    "\n",
    "num1, num2 = float(num1), float(num2)\n",
    "print(f\"Os números digitados foram {num1} e {num2}. e são do tipo {type(num1)} e {type(num2)}.\")\n",
    "\n",
    "\n",
    "\n"
   ]
  },
  {
   "cell_type": "code",
   "execution_count": 7,
   "metadata": {},
   "outputs": [
    {
     "name": "stdout",
     "output_type": "stream",
     "text": [
      "A soma é: 97.34\n",
      "A subtração é: 17.340000000000003\n",
      "A multiplicação é: 2293.6000000000004\n",
      "A divisão é: 1.43\n"
     ]
    }
   ],
   "source": [
    "# 3 - Implemente ao menos 4 operações matemáticas em seu código;\n",
    "\n",
    "numeros = []\n",
    "for i in range(2):\n",
    "    num = input(f\"Digite o número {i+1}: \")\n",
    "    numeros.append(float(num))\n",
    "\n",
    "soma = numeros[0] + numeros[1]\n",
    "subtracao = numeros[0] - numeros[1]\n",
    "multiplicacao = numeros[0] * numeros[1]\n",
    "divisao = numeros[0] / numeros[1]\n",
    "print(f\"A soma é: {soma}\")\n",
    "print(f\"A subtração é: {subtracao}\")\n",
    "print(f\"A multiplicação é: {multiplicacao}\")\n",
    "print(f\"A divisão é: {divisao:.2f}\")"
   ]
  },
  {
   "cell_type": "code",
   "execution_count": null,
   "metadata": {},
   "outputs": [
    {
     "name": "stdout",
     "output_type": "stream",
     "text": [
      "A média é 7.73 e você foi aprovado!\n"
     ]
    }
   ],
   "source": [
    "# 4 - Adicione um laço de repetição ou uma condicional. \n",
    "# Por exemplo: você pode permitir que o usuário escolha qual operação realizar ou \n",
    "# criar um loop que permita ao usuário realizar várias operações consecutivas;\n",
    "# 5 - Utilize o comando 'print' para exibir o resultado da operação matemática.\n",
    "provas = 0\n",
    "notas = []\n",
    "\n",
    "provas = int(input(\"Quantas provas você quer calcular? \"))\n",
    "\n",
    "for i in range(provas):\n",
    "    nota = float(input(f\"Digite a nota da prova {i+1}: \"))\n",
    "    notas.append(nota)\n",
    "media = sum(notas) / provas\n",
    "if media >= 7:\n",
    "    print(f\"A média é {media:.2f} e você foi aprovado!\")\n",
    "else:\n",
    "    print(f\"A média é {media:.2f} e você foi reprovado!\")"
   ]
  }
 ],
 "metadata": {
  "kernelspec": {
   "display_name": ".venv",
   "language": "python",
   "name": "python3"
  },
  "language_info": {
   "codemirror_mode": {
    "name": "ipython",
    "version": 3
   },
   "file_extension": ".py",
   "mimetype": "text/x-python",
   "name": "python",
   "nbconvert_exporter": "python",
   "pygments_lexer": "ipython3",
   "version": "3.13.2"
  }
 },
 "nbformat": 4,
 "nbformat_minor": 2
}
