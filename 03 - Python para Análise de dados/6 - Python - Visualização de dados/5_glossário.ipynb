{
 "cells": [
  {
   "cell_type": "markdown",
   "id": "0d317b09",
   "metadata": {},
   "source": [
    "# Glossário"
   ]
  },
  {
   "cell_type": "markdown",
   "id": "90deca12",
   "metadata": {},
   "source": [
    "Lembre-se dos termos mais utilizados durante o módulo.\n",
    "\n",
    "### Gráficos de Densidade\n",
    "Visualizações que suavizam os dados para criar uma representação contínua e esteticamente agradável da distribuição dos dados. São úteis para identificar padrões e tendências em grandes conjuntos de dados.\n",
    "\n",
    "### Gráficos de Regressão\n",
    "Gráficos que mostram a relação entre variáveis e ajudam a visualizar tendências e padrões nos dados. São frequentemente usados para prever valores e identificar correlações.\n",
    "\n",
    "### Histograma\n",
    "Um tipo de gráfico que representa a distribuição de um conjunto de dados, mostrando a frequência de valores em intervalos específicos. É útil para entender a distribuição e a dispersão dos dados.\n",
    "\n",
    "### Mapas de Calor\n",
    "Visualizações que utilizam cores para representar a intensidade dos valores em uma matriz de dados. São eficazes para identificar padrões e correlações em grandes conjuntos de dados.\n",
    "\n",
    "### Pairplot\n",
    "Uma combinação de gráficos de dispersão e histogramas que permite a visualização das relações entre múltiplas variáveis numéricas em um único gráfico. É útil para explorar correlações e distribuições.\n",
    "\n",
    "### Seaborn\n",
    "Uma biblioteca de visualização de dados em Python que é construída sobre o Matplotlib. Oferece uma interface de alto nível para a criação de gráficos estatísticos atraentes e informativos."
   ]
  }
 ],
 "metadata": {
  "language_info": {
   "name": "python"
  }
 },
 "nbformat": 4,
 "nbformat_minor": 5
}
