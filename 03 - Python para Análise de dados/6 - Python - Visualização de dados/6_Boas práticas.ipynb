{
 "cells": [
  {
   "cell_type": "markdown",
   "id": "5af81162",
   "metadata": {},
   "source": [
    "# Boas práticas"
   ]
  },
  {
   "cell_type": "markdown",
   "id": "6550bc8d",
   "metadata": {},
   "source": [
    "Nesta seção, você encontrará informações importantes que te ajudarão a aplicara efetivamente o que aprendeu.\n",
    "\n",
    "### Escolha adequada do tipo de gráfico\n",
    "É fundamental selecionar o tipo de gráfico que melhor representa os dados e a mensagem que se deseja transmitir. Por exemplo, gráficos de barras são ideais para comparações, enquanto gráficos de dispersão são melhores para visualizar correlações.\n",
    "\n",
    "### Personalização de gráficos\n",
    "Personalizar gráficos com títulos, rótulos de eixos, cores e legendas torna a visualização mais compreensível e esteticamente agradável. Isso ajuda a destacar informações importantes e facilita a interpretação dos dados.\n",
    "\n",
    "### Utilização de bibliotecas especializadas\n",
    "Aproveitar bibliotecas como Matplotlib e Seaborn para criar visualizações avançadas. Matplotlib é excelente para gráficos básicos, enquanto Seaborn oferece funcionalidades adicionais para gráficos mais complexos e esteticamente agradáveis.\n",
    "\n",
    "### Exploração de dados antes da visualização\n",
    "Antes de criar gráficos, é importante explorar e entender os dados. Isso inclui verificar a distribuição, identificar outliers e entender as relações entre variáveis. Ferramentas como Pandas são essenciais para essa etapa."
   ]
  },
  {
   "cell_type": "markdown",
   "id": "24bcd59f",
   "metadata": {},
   "source": [
    "## Exemplo de utilização no mercado de trabalho:\n",
    "\n",
    "- **Análise de Vendas**: Empresas utilizam gráficos de barras e de pizza para visualizar a performance de vendas por produto, região ou período, ajudando a identificar tendências e tomar decisões estratégicas.\n",
    "- **Pesquisa de Mercado**: Gráficos de dispersão e de correlação são usados para analisar a relação entre diferentes variáveis, como preço e satisfação do cliente, permitindo insights valiosos para estratégias de marketing."
   ]
  },
  {
   "cell_type": "markdown",
   "id": "722f62e6",
   "metadata": {},
   "source": [
    "## Exemplo de código executável (em Python) que ilustra a criação de gráficos:"
   ]
  },
  {
   "cell_type": "code",
   "execution_count": null,
   "id": "f2306d76",
   "metadata": {},
   "outputs": [],
   "source": [
    "# import pandas as pd: Importa a biblioteca Pandas para manipulação de dados.\n",
    "# import matplotlib.pyplot as plt: Importa a biblioteca Matplotlib para criação de gráficos.\n",
    "# import seaborn as sns: Importa a biblioteca Seaborn para visualização de dados avançada.\n",
    "\n",
    "import pandas as pd\n",
    "import matplotlib.pyplot as plt\n",
    "import seaborn as sns\n",
    "\n",
    "# Exemplo: Criação de um gráfico de dispersão com Matplotlib e Seaborn\n",
    "\n",
    "# Dados de exemplo\n",
    "# data: Dicionário com dados de exemplo, contendo idade e salário.\n",
    "data = {\n",
    "    'idade': [23, 45, 56, 25, 34, 42, 67, 29, 38, 50],\n",
    "    'salario': [50000, 80000, 120000, 45000, 60000, 75000, 130000, 48000, 70000, 90000]\n",
    "}\n",
    "# df = pd.DataFrame(data): Cria um DataFrame a partir do dicionário de dados.\n",
    "df = pd.DataFrame(data)\n",
    "\n",
    "# Gráfico de dispersão com Matplotlib\n",
    "# plt.scatter: Cria um gráfico de dispersão com Matplotlib, ajustando cor, transparência, título e rótulos dos eixos.\n",
    "plt.figure(figsize=(10, 6))\n",
    "plt.scatter(df['idade'], df['salario'], color='blue', alpha=0.5)\n",
    "plt.title('Relação entre Idade e Salário')\n",
    "plt.xlabel('Idade')\n",
    "plt.ylabel('Salário')\n",
    "plt.show()\n",
    "\n",
    "# Gráfico de dispersão com Seaborn\n",
    "# sns.scatterplot: Cria um gráfico de dispersão com Seaborn, utilizando a paleta de cores 'viridis' para diferenciar as idades.\n",
    "\n",
    "plt.figure(figsize=(10, 6))\n",
    "sns.scatterplot(x='idade', y='salario', data=df, hue='idade', palette='viridis')\n",
    "plt.title('Relação entre Idade e Salário')\n",
    "plt.xlabel('Idade')\n",
    "plt.ylabel('Salário')\n",
    "plt.show()"
   ]
  }
 ],
 "metadata": {
  "kernelspec": {
   "display_name": ".venv",
   "language": "python",
   "name": "python3"
  },
  "language_info": {
   "name": "python",
   "version": "3.13.2"
  }
 },
 "nbformat": 4,
 "nbformat_minor": 5
}
