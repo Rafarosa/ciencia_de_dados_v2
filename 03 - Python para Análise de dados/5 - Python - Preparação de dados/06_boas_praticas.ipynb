{
 "cells": [
  {
   "cell_type": "markdown",
   "id": "6b67d735",
   "metadata": {},
   "source": [
    "# Boas práticas\n",
    "\n",
    "Módulo 9\n",
    "Nesta seção, você encontrará informações importantes que te ajudarão a aplicara efetivamente o que aprendeu."
   ]
  },
  {
   "cell_type": "markdown",
   "id": "80791952",
   "metadata": {},
   "source": [
    "### Verificação e Tratamento de Dados Nulos\n",
    "Antes de qualquer análise, é crucial verificar e tratar dados nulos. Dados incompletos podem distorcer os resultados das análises e modelos de machine learning. Utilize métodos como remoção de registros nulos ou imputação de valores para lidar com esses casos.\n",
    "\n",
    "### Padronização e Normalização de Dados\n",
    "Padronize e normalize os dados para garantir que todas as variáveis estejam na mesma escala. Isso é especialmente importante para algoritmos de machine learning que são sensíveis à escala dos dados. Utilize técnicas como `StandardScaler` e `MinMaxScaler` da biblioteca Scikit-learn.\n",
    "\n",
    "### Codificação de Variáveis Categóricas\n",
    "Transforme variáveis categóricas em numéricas para facilitar a análise e a construção de modelos. Métodos como One-Hot Encoding, Codificação Ordinal e Label Encoding são essenciais para essa transformação.\n",
    "\n",
    "### Engenharia de Features\n",
    "Crie novas features a partir das existentes para melhorar o desempenho dos modelos de machine learning. Técnicas como transformação logarítmica e criação de novas variáveis baseadas na interação entre outras variáveis são práticas comuns."
   ]
  },
  {
   "cell_type": "markdown",
   "id": "22ca43c1",
   "metadata": {},
   "source": [
    "## Exemplo de utilização no mercado de trabalho:"
   ]
  },
  {
   "cell_type": "markdown",
   "id": "9217b914",
   "metadata": {},
   "source": [
    "- Previsão de Vendas: Empresas de varejo utilizam técnicas de padronização e normalização para ajustar dados históricos de vendas, permitindo a construção de modelos preditivos mais precisos.\n",
    "\n",
    "- Análise de Clientes: Empresas de marketing utilizam codificação de variáveis categóricas para transformar dados demográficos e comportamentais em formatos que podem ser analisados por algoritmos de machine learning."
   ]
  },
  {
   "cell_type": "markdown",
   "id": "8edec8b9",
   "metadata": {},
   "source": [
    "## Exemplo de código executável (em Python) que ilustra a padronização e normalização:"
   ]
  },
  {
   "cell_type": "code",
   "execution_count": 1,
   "id": "b5570749",
   "metadata": {},
   "outputs": [
    {
     "name": "stdout",
     "output_type": "stream",
     "text": [
      "   idade  salário  idade_padronizada  salário_padronizado  idade_normalizada  \\\n",
      "0     25    50000          -1.432078            -1.377832                0.0   \n",
      "1     45   100000           0.650945             0.522626                0.8   \n",
      "2     35    75000          -0.390567            -0.427603                0.4   \n",
      "3     50   120000           1.171700             1.282809                1.0   \n",
      "\n",
      "   salário_normalizado  \n",
      "0             0.000000  \n",
      "1             0.714286  \n",
      "2             0.357143  \n",
      "3             1.000000  \n"
     ]
    }
   ],
   "source": [
    "import pandas as pd\n",
    "from sklearn.preprocessing import StandardScaler, MinMaxScaler\n",
    "\n",
    "# Exemplo de DataFrame\n",
    "data = {'idade': [25, 45, 35, 50],\n",
    "        'salário': [50000, 100000, 75000, 120000]}\n",
    "df = pd.DataFrame(data)\n",
    "\n",
    "# Padronização\n",
    "scaler = StandardScaler()\n",
    "df['idade_padronizada'] = scaler.fit_transform(df[['idade']])\n",
    "df['salário_padronizado'] = scaler.fit_transform(df[['salário']])\n",
    "\n",
    "# Normalização\n",
    "min_max_scaler = MinMaxScaler()\n",
    "df['idade_normalizada'] = min_max_scaler.fit_transform(df[['idade']])\n",
    "df['salário_normalizado'] = min_max_scaler.fit_transform(df[['salário']])\n",
    "\n",
    "print(df)"
   ]
  },
  {
   "cell_type": "markdown",
   "id": "79528a80",
   "metadata": {},
   "source": [
    "Vamos discutir o código passo-a-passo:\n",
    "\n",
    "```import pandas as pd```: Importa a biblioteca Pandas para manipulação de dados.\n",
    "\n",
    "`from sklearn.preprocessing import StandardScaler, MinMaxScaler`: Importa as classes necessárias para padronização e normalização dos dados.\n",
    "\n",
    "`data`: Cria um dicionário com dados de exemplo.\n",
    "\n",
    "`df = pd.DataFrame(data)`: Converte o dicionário em um DataFrame do Pandas.\n",
    "\n",
    "`scaler = StandardScaler()`: Inicializa o objeto StandardScaler.\n",
    "\n",
    "`df['idade_padronizada'] = scaler.fit_transform(df[['idade']])`: Aplica a padronização na coluna 'idade' e cria uma nova coluna 'idade_padronizada'.\n",
    "\n",
    "`df['salário_padronizado'] = scaler.fit_transform(df[['salário']])`: Aplica a padronização na coluna 'salário' e cria uma nova coluna 'salário_padronizado'.\n",
    "\n",
    "`min_max_scaler = MinMaxScaler()`: Inicializa o objeto MinMaxScaler.\n",
    "\n",
    "`df['idade_normalizada'] = min_max_scaler.fit_transform(df[['idade']])`: Aplica a normalização na coluna 'idade' e cria uma nova coluna 'idade_normalizada'.\n",
    "\n",
    "`df['salário_normalizado'] = min_max_scaler.fit_transform(df[['salário']])`: Aplica a normalização na coluna 'salário' e cria uma nova coluna 'salário_normalizado'.\n",
    "\n",
    "`print(df)`: Imprime o DataFrame resultante com as novas colunas padronizadas e normalizadas."
   ]
  }
 ],
 "metadata": {
  "kernelspec": {
   "display_name": ".venv",
   "language": "python",
   "name": "python3"
  },
  "language_info": {
   "codemirror_mode": {
    "name": "ipython",
    "version": 3
   },
   "file_extension": ".py",
   "mimetype": "text/x-python",
   "name": "python",
   "nbconvert_exporter": "python",
   "pygments_lexer": "ipython3",
   "version": "3.13.2"
  }
 },
 "nbformat": 4,
 "nbformat_minor": 5
}
