{
 "cells": [
  {
   "cell_type": "markdown",
   "id": "c5cd630a",
   "metadata": {},
   "source": [
    "# Normalização e Padronização\n",
    "\n",
    "Na aula anterior, você teve uma visão geral das técnicas de preparação de dados para análise. Nesta aula, você vai:\n",
    "\n",
    "- Aplicar métodos de normalização e padronização em conjuntos de dados utilizando a biblioteca Sklearn;\n",
    "\n",
    "- Comparar diferentes métodos de normalização e padronização, identificando suas aplicações e diferenças nos resultados obtidos;\n",
    "\n",
    "- Avaliar a adequação dos métodos de normalização e padronização para diferentes conjuntos de dados e situações analíticas, justificando a escolha do método utilizado."
   ]
  },
  {
   "cell_type": "code",
   "execution_count": null,
   "id": "4a54ec2d",
   "metadata": {},
   "outputs": [],
   "source": [
    "#Importando bibliotecas\n",
    "\n",
    "import pandas as pd\n",
    "from sklearn.preprocessing import StandardScaler, RobustScaler, MinMaxScaler"
   ]
  },
  {
   "cell_type": "code",
   "execution_count": 9,
   "id": "579a127c",
   "metadata": {},
   "outputs": [],
   "source": [
    "# Configurando display do pandas\n",
    "\n",
    "pd.set_option('display.width', None)\n",
    "pd.set_option('display.max_colwidth', None)"
   ]
  },
  {
   "cell_type": "code",
   "execution_count": 5,
   "id": "1454f20b",
   "metadata": {},
   "outputs": [
    {
     "data": {
      "application/vnd.microsoft.datawrangler.viewer.v0+json": {
       "columns": [
        {
         "name": "index",
         "rawType": "int64",
         "type": "integer"
        },
        {
         "name": "idade",
         "rawType": "int64",
         "type": "integer"
        },
        {
         "name": "data",
         "rawType": "object",
         "type": "string"
        },
        {
         "name": "estado",
         "rawType": "object",
         "type": "string"
        },
        {
         "name": "salario",
         "rawType": "float64",
         "type": "float"
        },
        {
         "name": "nivel_educacao",
         "rawType": "object",
         "type": "string"
        },
        {
         "name": "numero_filhos",
         "rawType": "int64",
         "type": "integer"
        },
        {
         "name": "estado_civil",
         "rawType": "object",
         "type": "string"
        },
        {
         "name": "area_atuacao",
         "rawType": "object",
         "type": "string"
        }
       ],
       "conversionMethod": "pd.DataFrame",
       "ref": "5795a27d-5c7c-44c6-bc0d-84dc00227d93",
       "rows": [
        [
         "0",
         "56",
         "1968-01-19",
         "Pará",
         "13550.54",
         "Ensino Médio",
         "0",
         "Casado",
         "Tecnologia"
        ],
        [
         "1",
         "49",
         "1975-01-31",
         "Rio Grande do Norte",
         "3124.72",
         "Ensino Médio",
         "3",
         "Casado",
         "Indústria"
        ],
        [
         "2",
         "54",
         "1969-08-26",
         "Minas Gerais",
         "7534.6",
         "Ensino Médio",
         "0",
         "Casado",
         "Tecnologia"
        ],
        [
         "3",
         "61",
         "1963-03-19",
         "Amapá",
         "4067.73",
         "Ensino Fundamental",
         "1",
         "Solteiro",
         "Comércio"
        ],
        [
         "4",
         "30",
         "1993-12-09",
         "Alagoas",
         "6809.94",
         "Ensino Médio",
         "1",
         "Casado",
         "Tecnologia"
        ],
        [
         "5",
         "54",
         "1969-06-24",
         "Pará",
         "9025.74",
         "Ensino Médio",
         "1",
         "Solteiro",
         "Indústria"
        ],
        [
         "6",
         "28",
         "1996-03-25",
         "Tocantins",
         "9493.67",
         "Ensino Superior",
         "1",
         "Casado",
         "Comércio"
        ],
        [
         "7",
         "30",
         "1993-06-20",
         "Tocantins",
         "4072.6",
         "Ensino Médio",
         "0",
         "Solteiro",
         "Educação"
        ],
        [
         "8",
         "24",
         "2000-02-21",
         "Rio Grande do Norte",
         "4039.96",
         "Ensino Fundamental",
         "1",
         "Solteiro",
         "Indústria"
        ],
        [
         "9",
         "35",
         "1988-08-02",
         "Amazonas",
         "3457.97",
         "Ensino Fundamental",
         "1",
         "Viúvo",
         "Indústria"
        ]
       ],
       "shape": {
        "columns": 8,
        "rows": 10
       }
      },
      "text/html": [
       "<div>\n",
       "<style scoped>\n",
       "    .dataframe tbody tr th:only-of-type {\n",
       "        vertical-align: middle;\n",
       "    }\n",
       "\n",
       "    .dataframe tbody tr th {\n",
       "        vertical-align: top;\n",
       "    }\n",
       "\n",
       "    .dataframe thead th {\n",
       "        text-align: right;\n",
       "    }\n",
       "</style>\n",
       "<table border=\"1\" class=\"dataframe\">\n",
       "  <thead>\n",
       "    <tr style=\"text-align: right;\">\n",
       "      <th></th>\n",
       "      <th>idade</th>\n",
       "      <th>data</th>\n",
       "      <th>estado</th>\n",
       "      <th>salario</th>\n",
       "      <th>nivel_educacao</th>\n",
       "      <th>numero_filhos</th>\n",
       "      <th>estado_civil</th>\n",
       "      <th>area_atuacao</th>\n",
       "    </tr>\n",
       "  </thead>\n",
       "  <tbody>\n",
       "    <tr>\n",
       "      <th>0</th>\n",
       "      <td>56</td>\n",
       "      <td>1968-01-19</td>\n",
       "      <td>Pará</td>\n",
       "      <td>13550.54</td>\n",
       "      <td>Ensino Médio</td>\n",
       "      <td>0</td>\n",
       "      <td>Casado</td>\n",
       "      <td>Tecnologia</td>\n",
       "    </tr>\n",
       "    <tr>\n",
       "      <th>1</th>\n",
       "      <td>49</td>\n",
       "      <td>1975-01-31</td>\n",
       "      <td>Rio Grande do Norte</td>\n",
       "      <td>3124.72</td>\n",
       "      <td>Ensino Médio</td>\n",
       "      <td>3</td>\n",
       "      <td>Casado</td>\n",
       "      <td>Indústria</td>\n",
       "    </tr>\n",
       "    <tr>\n",
       "      <th>2</th>\n",
       "      <td>54</td>\n",
       "      <td>1969-08-26</td>\n",
       "      <td>Minas Gerais</td>\n",
       "      <td>7534.60</td>\n",
       "      <td>Ensino Médio</td>\n",
       "      <td>0</td>\n",
       "      <td>Casado</td>\n",
       "      <td>Tecnologia</td>\n",
       "    </tr>\n",
       "    <tr>\n",
       "      <th>3</th>\n",
       "      <td>61</td>\n",
       "      <td>1963-03-19</td>\n",
       "      <td>Amapá</td>\n",
       "      <td>4067.73</td>\n",
       "      <td>Ensino Fundamental</td>\n",
       "      <td>1</td>\n",
       "      <td>Solteiro</td>\n",
       "      <td>Comércio</td>\n",
       "    </tr>\n",
       "    <tr>\n",
       "      <th>4</th>\n",
       "      <td>30</td>\n",
       "      <td>1993-12-09</td>\n",
       "      <td>Alagoas</td>\n",
       "      <td>6809.94</td>\n",
       "      <td>Ensino Médio</td>\n",
       "      <td>1</td>\n",
       "      <td>Casado</td>\n",
       "      <td>Tecnologia</td>\n",
       "    </tr>\n",
       "    <tr>\n",
       "      <th>5</th>\n",
       "      <td>54</td>\n",
       "      <td>1969-06-24</td>\n",
       "      <td>Pará</td>\n",
       "      <td>9025.74</td>\n",
       "      <td>Ensino Médio</td>\n",
       "      <td>1</td>\n",
       "      <td>Solteiro</td>\n",
       "      <td>Indústria</td>\n",
       "    </tr>\n",
       "    <tr>\n",
       "      <th>6</th>\n",
       "      <td>28</td>\n",
       "      <td>1996-03-25</td>\n",
       "      <td>Tocantins</td>\n",
       "      <td>9493.67</td>\n",
       "      <td>Ensino Superior</td>\n",
       "      <td>1</td>\n",
       "      <td>Casado</td>\n",
       "      <td>Comércio</td>\n",
       "    </tr>\n",
       "    <tr>\n",
       "      <th>7</th>\n",
       "      <td>30</td>\n",
       "      <td>1993-06-20</td>\n",
       "      <td>Tocantins</td>\n",
       "      <td>4072.60</td>\n",
       "      <td>Ensino Médio</td>\n",
       "      <td>0</td>\n",
       "      <td>Solteiro</td>\n",
       "      <td>Educação</td>\n",
       "    </tr>\n",
       "    <tr>\n",
       "      <th>8</th>\n",
       "      <td>24</td>\n",
       "      <td>2000-02-21</td>\n",
       "      <td>Rio Grande do Norte</td>\n",
       "      <td>4039.96</td>\n",
       "      <td>Ensino Fundamental</td>\n",
       "      <td>1</td>\n",
       "      <td>Solteiro</td>\n",
       "      <td>Indústria</td>\n",
       "    </tr>\n",
       "    <tr>\n",
       "      <th>9</th>\n",
       "      <td>35</td>\n",
       "      <td>1988-08-02</td>\n",
       "      <td>Amazonas</td>\n",
       "      <td>3457.97</td>\n",
       "      <td>Ensino Fundamental</td>\n",
       "      <td>1</td>\n",
       "      <td>Viúvo</td>\n",
       "      <td>Indústria</td>\n",
       "    </tr>\n",
       "  </tbody>\n",
       "</table>\n",
       "</div>"
      ],
      "text/plain": [
       "   idade        data               estado   salario      nivel_educacao  \\\n",
       "0     56  1968-01-19                 Pará  13550.54        Ensino Médio   \n",
       "1     49  1975-01-31  Rio Grande do Norte   3124.72        Ensino Médio   \n",
       "2     54  1969-08-26         Minas Gerais   7534.60        Ensino Médio   \n",
       "3     61  1963-03-19                Amapá   4067.73  Ensino Fundamental   \n",
       "4     30  1993-12-09              Alagoas   6809.94        Ensino Médio   \n",
       "5     54  1969-06-24                 Pará   9025.74        Ensino Médio   \n",
       "6     28  1996-03-25            Tocantins   9493.67     Ensino Superior   \n",
       "7     30  1993-06-20            Tocantins   4072.60        Ensino Médio   \n",
       "8     24  2000-02-21  Rio Grande do Norte   4039.96  Ensino Fundamental   \n",
       "9     35  1988-08-02             Amazonas   3457.97  Ensino Fundamental   \n",
       "\n",
       "   numero_filhos estado_civil area_atuacao  \n",
       "0              0       Casado   Tecnologia  \n",
       "1              3       Casado    Indústria  \n",
       "2              0       Casado   Tecnologia  \n",
       "3              1     Solteiro     Comércio  \n",
       "4              1       Casado   Tecnologia  \n",
       "5              1     Solteiro    Indústria  \n",
       "6              1       Casado     Comércio  \n",
       "7              0     Solteiro     Educação  \n",
       "8              1     Solteiro    Indústria  \n",
       "9              1        Viúvo    Indústria  "
      ]
     },
     "execution_count": 5,
     "metadata": {},
     "output_type": "execute_result"
    }
   ],
   "source": [
    "# Lendo o arquvo CSV\n",
    "\n",
    "df = pd.read_csv(r'C:\\Users\\rodri\\dev\\ciencia_de_dados_v2\\assets\\clientes-v2-tratado.csv')\n",
    "\n",
    "# Exibindo as primeiras linhas do DataFrame\n",
    "df.head(10)"
   ]
  },
  {
   "cell_type": "code",
   "execution_count": 6,
   "id": "d1adb55a",
   "metadata": {},
   "outputs": [],
   "source": [
    "# Criar um datafram apenas com as colunas idade e salário para análise\n",
    "df = df[['idade', 'salario']]"
   ]
  },
  {
   "cell_type": "code",
   "execution_count": 10,
   "id": "fc773f98",
   "metadata": {},
   "outputs": [
    {
     "name": "stdout",
     "output_type": "stream",
     "text": [
      "Valores padrões do MinMaxScaler: \n",
      "    idade   salario  idadeMinMaxScaler  salarioMinMaxScaler  \\\n",
      "0     56  13550.54           0.520548             0.429638   \n",
      "1     49   3124.72           0.424658             0.062257   \n",
      "2     54   7534.60           0.493151             0.217650   \n",
      "3     61   4067.73           0.589041             0.095486   \n",
      "4     30   6809.94           0.164384             0.192115   \n",
      "\n",
      "   idadeMinMaxScaler_mm  salarioMinMaxScaler_mm  \n",
      "0              0.041096               -0.140724  \n",
      "1             -0.150685               -0.875487  \n",
      "2             -0.013699               -0.564699  \n",
      "3              0.178082               -0.809028  \n",
      "4             -0.671233               -0.615770   \n"
     ]
    }
   ],
   "source": [
    "# Normalização dos dados - MinMaxScaler valores padrões\n",
    "scaler = MinMaxScaler() # intervalo padrão é de [0, 1]\n",
    "df['idadeMinMaxScaler'] = scaler.fit_transform(df[['idade']])\n",
    "df['salarioMinMaxScaler'] = scaler.fit_transform(df[['salario']])\n",
    "print(f\"Valores padrões do MinMaxScaler: \\n {df.head()} \")"
   ]
  },
  {
   "cell_type": "code",
   "execution_count": 11,
   "id": "50d1f866",
   "metadata": {},
   "outputs": [
    {
     "name": "stdout",
     "output_type": "stream",
     "text": [
      "Valores ajustados do MinMaxScaler: \n",
      "    idade   salario  idadeMinMaxScaler  salarioMinMaxScaler  \\\n",
      "0     56  13550.54           0.520548             0.429638   \n",
      "1     49   3124.72           0.424658             0.062257   \n",
      "2     54   7534.60           0.493151             0.217650   \n",
      "3     61   4067.73           0.589041             0.095486   \n",
      "4     30   6809.94           0.164384             0.192115   \n",
      "\n",
      "   idadeMinMaxScaler_mm  salarioMinMaxScaler_mm  \n",
      "0              0.041096               -0.140724  \n",
      "1             -0.150685               -0.875487  \n",
      "2             -0.013699               -0.564699  \n",
      "3              0.178082               -0.809028  \n",
      "4             -0.671233               -0.615770   \n"
     ]
    }
   ],
   "source": [
    "# Normalização dos dados - MinMaxScaler valores ajustados\n",
    "min_max_scaler = MinMaxScaler(feature_range=(-1, 1)) # intervalo customizado de [-1, 1]\n",
    "df['idadeMinMaxScaler_mm'] = min_max_scaler.fit_transform(df[['idade']])\n",
    "df['salarioMinMaxScaler_mm'] = min_max_scaler.fit_transform(df[['salario']])\n",
    "print(f\"Valores ajustados do MinMaxScaler: \\n {df.head()} \")"
   ]
  },
  {
   "cell_type": "code",
   "execution_count": 12,
   "id": "e78bcdfc",
   "metadata": {},
   "outputs": [
    {
     "name": "stdout",
     "output_type": "stream",
     "text": [
      "Valores padrões do StandardScaler: \n",
      "    idade   salario  idadeMinMaxScaler  salarioMinMaxScaler  \\\n",
      "0     56  13550.54           0.520548             0.429638   \n",
      "1     49   3124.72           0.424658             0.062257   \n",
      "2     54   7534.60           0.493151             0.217650   \n",
      "3     61   4067.73           0.589041             0.095486   \n",
      "4     30   6809.94           0.164384             0.192115   \n",
      "\n",
      "   idadeMinMaxScaler_mm  salarioMinMaxScaler_mm  idadeStandardScaler  \\\n",
      "0              0.041096               -0.140724             1.038112   \n",
      "1             -0.150685               -0.875487             0.583582   \n",
      "2             -0.013699               -0.564699             0.908246   \n",
      "3              0.178082               -0.809028             1.362775   \n",
      "4             -0.671233               -0.615770            -0.650140   \n",
      "\n",
      "   salarioStandardScaler  \n",
      "0               1.949011  \n",
      "1              -1.048690  \n",
      "2               0.219268  \n",
      "3              -0.777549  \n",
      "4               0.010909   \n"
     ]
    }
   ],
   "source": [
    "# Padronização - StandardScaler\n",
    "scaler = StandardScaler() # média será 0 (zero) e o desvio padrão será 1\n",
    "df['idadeStandardScaler'] = scaler.fit_transform(df[['idade']])\n",
    "df['salarioStandardScaler'] = scaler.fit_transform(df[['salario']])\n",
    "print(f\"Valores padrões do StandardScaler: \\n {df.head()} \")"
   ]
  },
  {
   "cell_type": "code",
   "execution_count": 13,
   "id": "934a4f5e",
   "metadata": {},
   "outputs": [
    {
     "name": "stdout",
     "output_type": "stream",
     "text": [
      "Valores padrões do RobustScaler: \n",
      "    idade   salario  idadeMinMaxScaler  salarioMinMaxScaler  \\\n",
      "0     56  13550.54           0.520548             0.429638   \n",
      "1     49   3124.72           0.424658             0.062257   \n",
      "2     54   7534.60           0.493151             0.217650   \n",
      "3     61   4067.73           0.589041             0.095486   \n",
      "4     30   6809.94           0.164384             0.192115   \n",
      "\n",
      "   idadeMinMaxScaler_mm  salarioMinMaxScaler_mm  idadeStandardScaler  \\\n",
      "0              0.041096               -0.140724             1.038112   \n",
      "1             -0.150685               -0.875487             0.583582   \n",
      "2             -0.013699               -0.564699             0.908246   \n",
      "3              0.178082               -0.809028             1.362775   \n",
      "4             -0.671233               -0.615770            -0.650140   \n",
      "\n",
      "   salarioStandardScaler  idadeRobustScaler  salarioRobustScaler  \n",
      "0               1.949011           0.782609             1.775780  \n",
      "1              -1.048690           0.478261            -0.696404  \n",
      "2               0.219268           0.695652             0.349273  \n",
      "3              -0.777549           1.000000            -0.472796  \n",
      "4               0.010909          -0.347826             0.177440   \n"
     ]
    }
   ],
   "source": [
    "# Padronização - RobustScaler\n",
    "scaler = RobustScaler()\n",
    "df['idadeRobustScaler'] = scaler.fit_transform(df[['idade']])\n",
    "df['salarioRobustScaler'] = scaler.fit_transform(df[['salario']])\n",
    "print(f\"Valores padrões do RobustScaler: \\n {df.head()} \")"
   ]
  },
  {
   "cell_type": "code",
   "execution_count": 15,
   "id": "97aca4d8",
   "metadata": {},
   "outputs": [
    {
     "name": "stdout",
     "output_type": "stream",
     "text": [
      "MinMaxScaler (de 0 a 1):\n",
      "Idade - Min: 0.0000 Max: 1.0000 Mean: 0.3015 Std: 0.2110\n",
      "Salário - Min: 0.0000 Max: 1.0000 Mean: 0.1908 Std: 0.1226\n",
      "\n",
      " MinMaxScaler (de -1 a 1):\n",
      "Idade - Min: -1.0000 Max: 1.0000 Mean: -0.3969 Std: 0.4220\n",
      "Idade - Min: -1.0000 Max: 1.0000 Mean: -0.6184 Std: 0.2451\n",
      "\n",
      " StandardScaler (Ajuste a médio a 0 e devio padrão a 1):\n",
      "Idade - Min: -1.4293 Max: 3.3108 Mean: 0.000000000000000177 Std: 1.0001\n",
      "Idade - Min: -1.5567 Max: 6.6030 Mean: 0.000000000000000182 Std: 1.0001\n",
      "\n",
      " RobustScaler (Ajuste a mediana e IQR):\n",
      "Idade - Min: -0.8696 Max: 2.3043 Mean: 0.0875 Std: 0.6696\n",
      "Idade - Min: -1.1153 Max: 5.6139 Mean: 0.1684 Std: 0.8247\n"
     ]
    }
   ],
   "source": [
    "print(\"MinMaxScaler (de 0 a 1):\")\n",
    "print(\"Idade - Min: {:.4f} Max: {:.4f} Mean: {:.4f} Std: {:.4f}\".format(\n",
    "    df['idadeMinMaxScaler'].min(),\n",
    "    df['idadeMinMaxScaler'].max(),\n",
    "    df['idadeMinMaxScaler'].mean(),\n",
    "    df['idadeMinMaxScaler'].std()\n",
    "))\n",
    "\n",
    "print(\"Salário - Min: {:.4f} Max: {:.4f} Mean: {:.4f} Std: {:.4f}\".format(\n",
    "    df['salarioMinMaxScaler'].min(),\n",
    "    df['salarioMinMaxScaler'].max(),\n",
    "    df['salarioMinMaxScaler'].mean(),\n",
    "    df['salarioMinMaxScaler'].std()\n",
    "))\n",
    "\n",
    "print(\"\\n MinMaxScaler (de -1 a 1):\")\n",
    "print(\"Idade - Min: {:.4f} Max: {:.4f} Mean: {:.4f} Std: {:.4f}\".format(\n",
    "    df['idadeMinMaxScaler_mm'].min(),\n",
    "    df['idadeMinMaxScaler_mm'].max(),\n",
    "    df['idadeMinMaxScaler_mm'].mean(),\n",
    "    df['idadeMinMaxScaler_mm'].std(),\n",
    "))\n",
    "\n",
    "print(\"Idade - Min: {:.4f} Max: {:.4f} Mean: {:.4f} Std: {:.4f}\".format(\n",
    "    df['salarioMinMaxScaler_mm'].min(),\n",
    "    df['salarioMinMaxScaler_mm'].max(),\n",
    "    df['salarioMinMaxScaler_mm'].mean(),\n",
    "    df['salarioMinMaxScaler_mm'].std(),\n",
    "))\n",
    "\n",
    "print(\"\\n StandardScaler (Ajuste a médio a 0 e devio padrão a 1):\")\n",
    "print(\"Idade - Min: {:.4f} Max: {:.4f} Mean: {:.18f} Std: {:.4f}\".format(\n",
    "    df['idadeStandardScaler'].min(),\n",
    "    df['idadeStandardScaler'].max(),\n",
    "    df['idadeStandardScaler'].mean(),\n",
    "    df['idadeStandardScaler'].std(),\n",
    "))\n",
    "\n",
    "print(\"Idade - Min: {:.4f} Max: {:.4f} Mean: {:.18f} Std: {:.4f}\".format(\n",
    "    df['salarioStandardScaler'].min(),\n",
    "    df['salarioStandardScaler'].max(),\n",
    "    df['salarioStandardScaler'].mean(),\n",
    "    df['salarioStandardScaler'].std(),\n",
    "))\n",
    "\n",
    "print(\"\\n RobustScaler (Ajuste a mediana e IQR):\")\n",
    "print(\"Idade - Min: {:.4f} Max: {:.4f} Mean: {:.4f} Std: {:.4f}\".format(\n",
    "    df['idadeRobustScaler'].min(),\n",
    "    df['idadeRobustScaler'].max(),\n",
    "    df['idadeRobustScaler'].mean(),\n",
    "    df['idadeRobustScaler'].std(),\n",
    "))\n",
    "\n",
    "print(\"Idade - Min: {:.4f} Max: {:.4f} Mean: {:.4f} Std: {:.4f}\".format(\n",
    "    df['salarioRobustScaler'].min(),\n",
    "    df['salarioRobustScaler'].max(),\n",
    "    df['salarioRobustScaler'].mean(),\n",
    "    df['salarioRobustScaler'].std(),\n",
    "))"
   ]
  }
 ],
 "metadata": {
  "kernelspec": {
   "display_name": ".venv",
   "language": "python",
   "name": "python3"
  },
  "language_info": {
   "codemirror_mode": {
    "name": "ipython",
    "version": 3
   },
   "file_extension": ".py",
   "mimetype": "text/x-python",
   "name": "python",
   "nbconvert_exporter": "python",
   "pygments_lexer": "ipython3",
   "version": "3.13.2"
  }
 },
 "nbformat": 4,
 "nbformat_minor": 5
}
