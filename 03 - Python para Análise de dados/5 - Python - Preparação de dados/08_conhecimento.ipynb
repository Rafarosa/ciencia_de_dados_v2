{
 "cells": [
  {
   "cell_type": "markdown",
   "id": "2e31581e",
   "metadata": {},
   "source": [
    "# Reforce seu conhecimento\n",
    "\n",
    "Antes de revisar as respostas, tente respondê-las você mesmo, isso te ajudará a fortalecer sua compreensão. Esta é uma ótima maneira de aprender!"
   ]
  },
  {
   "cell_type": "markdown",
   "id": "0af41258",
   "metadata": {},
   "source": [
    "### O que é preparação de dados e por que é importante?\n",
    "A preparação de dados é o processo de limpar, transformar e organizar dados brutos para torná-los adequados para análise. É importante porque dados de má qualidade podem levar a análises imprecisas e modelos de machine learning ineficazes. A preparação de dados garante que os dados estejam em um formato adequado, sem valores nulos ou duplicados, e prontos para serem utilizados em análises e modelagem.\n",
    "\n",
    "### Qual a diferença entre padronização e normalização de dados?\n",
    "A padronização ajusta os dados para que tenham uma média de 0 e um desvio padrão de 1, utilizando o método `StandardScaler`. Já a normalização ajusta os valores para um intervalo específico, geralmente entre 0 e 1, utilizando o método `MinMaxScaler`. Ambas as técnicas são usadas para trazer os dados para uma escala comum, facilitando a comparação e interpretação dos resultados.\n",
    "\n",
    "### O que é codificação de variáveis categóricas e quais são os métodos principais?\n",
    "A codificação de variáveis categóricas é o processo de transformar dados textuais em numéricos para facilitar a análise e a construção de modelos analíticos. Os métodos principais incluem:\n",
    "\n",
    "- **One-Hot Encoding**: Utiliza o método `get_dummies` do Pandas para transformar categorias em colunas binárias.\n",
    "\n",
    "- **Codificação Ordinal**: Mapeia categorias para números utilizando um dicionário e a função `map`.\n",
    "\n",
    "- **Codificação com Categorias (Cat)**: Utiliza o tipo `category` do Pandas para converter automaticamente valores em números.\n",
    "\n",
    "- **Label Encoding**: Utiliza o `LabelEncoder` da Scikit-learn para converter valores únicos em números.\n",
    "\n",
    "### O que é engenharia de features e por que é importante?\n",
    "Engenharia de features é o processo de criar novas variáveis (features) a partir das existentes para melhorar o desempenho dos modelos de machine learning. É importante porque pode aumentar a precisão e a eficácia dos modelos, permitindo que eles capturem melhor os padrões nos dados. Técnicas comuns incluem transformação logarítmica, normalização e criação de novas features baseadas na frequência de ocorrência e na interação entre variáveis.\n",
    "\n",
    "### Como lidar com valores nulos durante a preparação de dados?\n",
    "Durante a preparação de dados, valores nulos podem ser tratados de várias maneiras, incluindo:\n",
    "\n",
    "- Remoção de registros com valores nulos.\n",
    "\n",
    "- Preenchimento de valores nulos com a média, mediana ou moda da coluna.\n",
    "\n",
    "- Utilização de técnicas de imputação avançadas, como KNN Imputer ou regressão.\n",
    "\n",
    "A escolha do método depende do contexto e da quantidade de dados nulos presentes.\n",
    "\n",
    "### O que é transformação logarítmica e quando deve ser usada?\n",
    "A transformação logarítmica é uma técnica usada para ajustar valores discrepantes (outliers) e trazer os dados para uma distribuição mais uniforme. Ela é aplicada ao transformar os valores de uma variável utilizando a função logarítmica. Deve ser usada quando os dados apresentam uma distribuição altamente assimétrica ou quando há presença de outliers que podem distorcer a análise.\n",
    "\n",
    "### Qual a importância de remover campos identificáveis dos dados?\n",
    "Remover campos identificáveis dos dados é crucial para garantir a conformidade com as leis de proteção de dados, como a GDPR na Europa e a LGPD no Brasil. Campos identificáveis podem incluir informações pessoais que podem ser usadas para identificar indivíduos, como nomes, endereços e números de identificação. A remoção desses campos ajuda a proteger a privacidade dos indivíduos e a evitar possíveis violações de dados.\n",
    "\n",
    "### O que é o `RobustScaler` e quando deve ser utilizado?\n",
    "O `RobustScaler` é uma técnica de escalonamento que reduz o impacto de outliers ao utilizar a mediana e os quartis para ajustar os dados. Ele é útil quando os dados contêm outliers que podem distorcer a análise, pois é menos sensível a valores extremos em comparação com o `StandardScaler` e o `MinMaxScaler`.\n",
    "\n",
    "### Como a análise exploratória de dados auxilia na preparação de dados?\n",
    "A análise exploratória de dados (EDA) auxilia na preparação de dados ao permitir a identificação de padrões, tendências e anomalias nos dados. Ela ajuda a detectar valores nulos, duplicados e únicos, além de fornecer insights sobre a distribuição e a relação entre variáveis. A EDA é uma etapa crucial para entender a qualidade dos dados e determinar as transformações necessárias para a análise subsequente.\n",
    "\n",
    "### Por que é importante transformar e categorizar dados?\n",
    "Transformar e categorizar dados é importante para facilitar a análise e a construção de modelos de machine learning. Dados transformados e categorizados permitem que os algoritmos de machine learning interpretem e processem as informações de maneira mais eficaz, melhorando a precisão e a eficiência dos modelos. Além disso, essas transformações ajudam a padronizar os dados, tornando-os mais comparáveis e interpretáveis."
   ]
  }
 ],
 "metadata": {
  "language_info": {
   "name": "python"
  }
 },
 "nbformat": 4,
 "nbformat_minor": 5
}
