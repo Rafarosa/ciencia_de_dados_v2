{
 "cells": [
  {
   "cell_type": "markdown",
   "id": "8a82663f",
   "metadata": {},
   "source": [
    "# Lab 9"
   ]
  },
  {
   "cell_type": "markdown",
   "id": "57a2ee65",
   "metadata": {},
   "source": [
    "Preparação de dados 1\n",
    "\n",
    "Vamos continuar o nosso projeto, realizando agora a preparação dos dados. Seu código deve conter os passos a seguir:\n",
    "\n",
    "- Verifique a quantidade de dados únicos para cada campo e armazene na variável unicos.\n",
    "- Verifique as estatísticas dos campos numéricos e armazene na variável estatisticas.\n",
    "- Crie o campo Preco com esse cálculo em relação aos campos: Reais + (Centavos/100). O novo campo deve ser criado no mesmo DataFrame df.\n",
    "- Remova os seguintes campos: ['Reais', 'Centavos', 'Condicao', 'Condicao_Atual']. A remoção deve ser feita no mesmo DataFrame df.\n"
   ]
  },
  {
   "cell_type": "code",
   "execution_count": null,
   "id": "e747ae19",
   "metadata": {},
   "outputs": [],
   "source": [
    "#Vamos continuar o nosso projeto, realizando agora a preparação dos dados. Seu código deve conter os passos a seguir:\n",
    "#\n",
    "#- Verifique a quantidade de dados únicos para cada campo e armazene na variável unicos.\n",
    "#- Verifique as estatísticas dos campos numéricos e armazene na variável estatisticas.\n",
    "#- Crie o campo Preco com esse cálculo em relação aos campos: Reais + (Centavos/100). O novo campo deve ser criado no mesmo DataFrame df.\n",
    "#- Remova os seguintes campos: ['Reais', 'Centavos', 'Condicao', 'Condicao_Atual']. A remoção deve ser feita no mesmo DataFrame df.\n",
    "\n",
    "import pandas as pd\n",
    "\n",
    "df = pd.read_csv('/data/ecommerce_tratados.csv')\n",
    "\n",
    "# Verifica a quantidade de dados únicos em cada coluna\n",
    "unicos = df.nunique()\n",
    "\n",
    "# Calcula estatísticas descritivas dos campos numéricos\n",
    "estatisticas = df.describe()\n",
    "\n",
    "# Crie o campo Preco com esse cálculo em relação aos campos: Reais + (Centavos/100). O novo campo deve ser criado no mesmo DataFrame df.\n",
    "df['Preco'] = df['Reais'] + (df['Centavos'] / 100)\n",
    "\n",
    "# Remova os seguintes campos: ['Reais', 'Centavos', 'Condicao', 'Condicao_Atual']. A remoção deve ser feita no mesmo DataFrame df.\n",
    "df.drop(columns=['Reais', 'Centavos', 'Condicao', 'Condicao_Atual'], inplace=True)\n"
   ]
  },
  {
   "cell_type": "markdown",
   "id": "88e2e6cc",
   "metadata": {},
   "source": [
    "Preparação de dados 2\n",
    "\n",
    "Continuando o exercício anterior, seu código deve conter as ações abaixo. Todos os campos devem ser criados no mesmo DataFrame df:\n",
    "\n",
    "- Crie o campo `Nota_MinMax` com a transformação do campo `Nota` para numérico em uma escala de 0 a 1, utilizando o MinMaxScaler.\n",
    "- Crie o campo `N_Avaliações_MinMax` com a transformação do campo `N_Avaliações` para numérico em uma escala de 0 a 1, utilizando o MinMaxScaler.\n",
    "- Crie o campo `Desconto_MinMax` com a transformação do campo `Desconto` para numérico em uma escala de 0 a 1, utilizando o MinMaxScaler.\n",
    "- Crie o campo `Preco_MinMax` com a transformação do campo `Preco` para numérico em uma escala de 0 a 1, utilizando o MinMaxScaler.\n",
    "- Crie o campo `Marca_Cod` utilizando o método LabelEncoder para transformar o campo `Marca` em numérico.\n",
    "- Crie o campo `Material_Cod` utilizando o método LabelEncoder para transformar o campo `Material` em numérico.\n",
    "- Crie o campo `Temporada_Cod` utilizando o método LabelEncoder para transformar o campo `Temporada` em numérico."
   ]
  },
  {
   "cell_type": "code",
   "execution_count": null,
   "id": "f6862a76",
   "metadata": {},
   "outputs": [],
   "source": [
    "import pandas as pd\n",
    "from sklearn.preprocessing import MinMaxScaler, LabelEncoder\n",
    "\n",
    "df = pd.read_csv('/data/ecommerce_tratados_ex2.csv')\n",
    "\n",
    "# Escreva seu código abaixo\n",
    "print(df.head())\n",
    "\n",
    "# Crie o campo `Nota_MinMax` com a transformação do campo `Nota` para numérico em uma escala de 0 a 1, utilizando o MinMaxScaler.\n",
    "scaler = MinMaxScaler()\n",
    "df['Nota_MinMax'] = scaler.fit_transform(df[['Nota']])\n",
    "\n",
    "# Crie o campo `N_Avaliações_MinMax` com a transformação do campo `N_Avaliações` para numérico em uma escala de 0 a 1, utilizando o MinMaxScaler.\n",
    "df['N_Avaliações_MinMax'] = scaler.fit_transform(df[['N_Avaliações']])\n",
    "\n",
    "#  Crie o campo `Desconto_MinMax` com a transformação do campo `Desconto` para numérico em uma escala de 0 a 1, utilizando o MinMaxScaler.\n",
    "df['Desconto_MinMax'] = scaler.fit_transform(df[['Desconto']])\n",
    "\n",
    " # Crie o campo `Preco_MinMax` com a transformação do campo `Preco` para numérico em uma escala de 0 a 1, utilizando o MinMaxScaler.\n",
    "df['Preco_MinMax'] = scaler.fit_transform(df[['Preco']])\n",
    "\n",
    "# Crie o campo `Marca_Cod` utilizando o método LabelEncoder para transformar o campo `Marca` em numérico.\n",
    "le = LabelEncoder()\n",
    "df['Marca_Cod'] = le.fit_transform(df['Marca'])\n",
    "\n",
    "# Crie o campo `Material_Cod` utilizando o método LabelEncoder para transformar o campo `Material` em numérico.\n",
    "df['Material_Cod'] = le.fit_transform(df['Material'])\n",
    "\n",
    "# Crie o campo `Temporada_Cod` utilizando o método LabelEncoder para transformar o campo `Temporada` em numérico.\n",
    "df['Temporada_Cod'] = le.fit_transform(df['Temporada'])\n",
    "\n"
   ]
  },
  {
   "cell_type": "markdown",
   "id": "e290be3b",
   "metadata": {},
   "source": [
    "Preparação de dados 3\n",
    "\n",
    "Vamos finalizar o exercício com mais algumas preparações. Siga os passos a seguir. Todos campos devem ser criado no mesmo DataFrame df:\n",
    "\n",
    " - Crie o campo `Qtd_Vendidos_Cod` com a transformação do campo `Qtd_Vendidos` para número de acordo com as suas grandezas ('Nenhum', '1', '2', '3', '4', '+5', '+25', '+50', '+100', '+1000', '+10mil' '+50mil'), exemplo +10mil = 10000.\n",
    "- Crie o campo `Marca_Freq` com a transformação do campo `Marca` para número de acordo com a frequência do valor.\n",
    "- Crie o campo `Material_Freq` com a transformação do campo `Material` para número de acordo com a frequência do valor."
   ]
  },
  {
   "cell_type": "code",
   "execution_count": null,
   "id": "cc32a554",
   "metadata": {},
   "outputs": [],
   "source": [
    "import pandas as pd\n",
    "\n",
    "df = pd.read_csv('/data/ecommerce_tratados_ex3.csv')\n",
    "\n",
    "# Escreva seu código abaixo\n",
    "# Crie o campo `Qtd_Vendidos_Cod` com a transformação do campo `Qtd_Vendidos` para número de acordo com as suas grandezas ('Nenhum', '1', '2', '3', '4', '+5', '+25', '+50', '+100', '+1000', '+10mil' '+50mil'), exemplo +10mil = 10000.\n",
    "qtd_vendidos_map = {\n",
    "    'Nenhum': 0, '1': 1, '2': 2, '3': 3, '4': 4, '+5': 5,\n",
    "    '+25': 25, '+50': 50, '+100': 100, '+1000': 1000, '+10mil': 10000, '+50mil': 50000\n",
    "}\n",
    "df['Qtd_Vendidos_Cod'] = df['Qtd_Vendidos'].map(qtd_vendidos_map)\n",
    "\n",
    "# Crie o campo `Marca_Freq` com a transformação do campo `Marca` para número de acordo com a frequência do valor.\n",
    "df['Material_Freq'] = df['Material'].map(mf_material)\n",
    "mf_marca = df['Marca'].value_counts() / len(df)\n",
    "\n",
    "# Crie o campo `Material_Freq` com a transformação do campo `Material` para número de acordo com a frequência do valor.\n",
    "df['Marca_Freq'] = df['Marca'].map(mf_marca)\n",
    "mf_material = df['Material'].value_counts() / len(df)\n",
    "\n",
    "\n",
    "print(df[['Material', 'Material_Freq', 'Marca', 'Marca_Freq']].head())\n"
   ]
  }
 ],
 "metadata": {
  "kernelspec": {
   "display_name": ".venv",
   "language": "python",
   "name": "python3"
  },
  "language_info": {
   "name": "python",
   "version": "3.13.2"
  }
 },
 "nbformat": 4,
 "nbformat_minor": 5
}
