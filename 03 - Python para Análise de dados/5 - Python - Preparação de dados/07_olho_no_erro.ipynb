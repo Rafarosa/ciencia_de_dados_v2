{
 "cells": [
  {
   "cell_type": "markdown",
   "id": "940e229b",
   "metadata": {},
   "source": [
    "# De olho no erro\n",
    "\n",
    "Módulo 9\n",
    "\n",
    "Aprenda a identificar e corrigir os erros mais comuns e torne seu código mais eficiente e confiável."
   ]
  },
  {
   "cell_type": "markdown",
   "id": "1a1ca21f",
   "metadata": {},
   "source": [
    "## 01 - Esquecer de verificar e tratar valores nulos.\n",
    "\n",
    "- **Descrição: Iniciantes** frequentemente esquecem de verificar e tratar valores nulos em seus conjuntos de dados, o que pode levar a erros em análises subsequentes ou na construção de modelos de machine learning.\n",
    "\n",
    "- **Tipo de Erro**: Erro lógico."
   ]
  },
  {
   "cell_type": "code",
   "execution_count": null,
   "id": "fa7ffcea",
   "metadata": {},
   "outputs": [],
   "source": [
    "# Exemplo de código\n",
    "\n",
    "import pandas as pd\n",
    "\n",
    "data = pd.read_csv('dados.csv')\n",
    "# Esquecendo de verificar valores nulos\n",
    "print(data.head())"
   ]
  },
  {
   "cell_type": "markdown",
   "id": "f703645c",
   "metadata": {},
   "source": [
    "### Correção \n",
    "\n",
    "Passo 1: Utilize o método `isnull().sum()` para verificar a quantidade de valores nulos em cada coluna.\n",
    "\n",
    "Passo 2: Decida como tratar os valores nulos (remover ou substituir).\n",
    "\n",
    "Passo 3: Aplique a técnica escolhida, como `dropna()` para remover registros com valores nulos."
   ]
  },
  {
   "cell_type": "code",
   "execution_count": null,
   "id": "8fa71ea9",
   "metadata": {},
   "outputs": [],
   "source": [
    "import pandas as pd\n",
    "\n",
    "data = pd.read_csv('dados.csv')\n",
    "# Verificando valores nulos\n",
    "print(data.isnull().sum())\n",
    "# Tratando valores nulos\n",
    "data = data.dropna()\n",
    "print(data.head())"
   ]
  },
  {
   "cell_type": "markdown",
   "id": "d06e4f1b",
   "metadata": {},
   "source": [
    "## 02 - Não padronizar ou normalizar os dados antes da análise.\n",
    "\n",
    "- **Descrição**: Iniciantes podem esquecer de padronizar ou normalizar os dados, o que pode levar a resultados distorcidos em análises estatísticas e modelos de machine learning.\n",
    "\n",
    "- **Tipo de Erro**: Erro lógico."
   ]
  },
  {
   "cell_type": "code",
   "execution_count": null,
   "id": "66454f46",
   "metadata": {},
   "outputs": [],
   "source": [
    "# Exemplo\n",
    "from sklearn.preprocessing import MinMaxScaler\n",
    "\n",
    "data = pd.read_csv('dados.csv')\n",
    "# Esquecendo de normalizar os dados\n",
    "print(data[['idade', 'salário']].head())"
   ]
  },
  {
   "cell_type": "markdown",
   "id": "f51e7b8b",
   "metadata": {},
   "source": [
    "### Correção \n",
    "\n",
    "- **Passo 1**: Importe o método de normalização ou padronização desejado, como `MinMaxScaler`.\n",
    "\n",
    "- **Passo 2**: Aplique o método aos dados relevantes.\n",
    "\n",
    "- **Passo 3**: Verifique os dados normalizados ou padronizados."
   ]
  },
  {
   "cell_type": "code",
   "execution_count": null,
   "id": "0ded0166",
   "metadata": {},
   "outputs": [],
   "source": [
    "from sklearn.preprocessing import MinMaxScaler\n",
    "\n",
    "data = pd.read_csv('dados.csv')\n",
    "scaler = MinMaxScaler()\n",
    "data[['idade', 'salário']] = scaler.fit_transform(data[['idade', 'salário']])\n",
    "print(data[['idade', 'salário']].head())"
   ]
  },
  {
   "cell_type": "markdown",
   "id": "bdedabad",
   "metadata": {},
   "source": [
    "## 03 - Não codificar variáveis categóricas.\n",
    "\n",
    "- **Descrição**: Iniciantes podem esquecer de transformar variáveis categóricas em numéricas, o que é essencial para a maioria dos algoritmos de machine learning.\n",
    "\n",
    "- **Tipo de Erro**: Erro lógico."
   ]
  },
  {
   "cell_type": "code",
   "execution_count": null,
   "id": "de46b789",
   "metadata": {},
   "outputs": [],
   "source": [
    "#Exemplo\n",
    "\n",
    "import pandas as pd\n",
    "\n",
    "data = pd.read_csv('dados.csv')\n",
    "# Esquecendo de codificar variáveis categóricas\n",
    "print(data['estado'].head())"
   ]
  },
  {
   "cell_type": "markdown",
   "id": "04d7f98c",
   "metadata": {},
   "source": [
    "### Correção\n",
    "\n",
    "- **Passo** 1: Identifique as variáveis categóricas no conjunto de dados.\n",
    "\n",
    "- **Passo** 2: Utilize métodos como `get_dummies` para transformar essas variáveis em colunas binárias.\n",
    "\n",
    "- **Passo** 3: Verifique o DataFrame resultante para garantir que a codificação foi aplicada corretamente."
   ]
  },
  {
   "cell_type": "code",
   "execution_count": null,
   "id": "f4b8c279",
   "metadata": {},
   "outputs": [],
   "source": [
    "import pandas as pd\n",
    "\n",
    "data = pd.read_csv('dados.csv')\n",
    "# Codificando variáveis categóricas\n",
    "data = pd.get_dummies(data, columns=['estado'])\n",
    "print(data.head())"
   ]
  },
  {
   "cell_type": "markdown",
   "id": "4a955930",
   "metadata": {},
   "source": [
    "## 04 - Não realizar análise exploratória de dados (EDA).\n",
    "\n",
    "**Descrição**: Iniciantes podem pular a etapa de análise exploratória de dados, perdendo insights importantes sobre a distribuição e características dos dados.\n",
    "\n",
    "**Tipo de Erro**: Erro lógico.\n"
   ]
  },
  {
   "cell_type": "code",
   "execution_count": null,
   "id": "37093900",
   "metadata": {},
   "outputs": [],
   "source": [
    "# Exemplo\n",
    "\n",
    "import pandas as pd\n",
    "\n",
    "data = pd.read_csv('dados.csv')\n",
    "# Esquecendo de realizar EDA"
   ]
  },
  {
   "cell_type": "markdown",
   "id": "d437571c",
   "metadata": {},
   "source": [
    "### Correção \n",
    "\n",
    "- **Passo** 1: Utilize métodos como `describe()` para obter estatísticas descritivas dos dados.\n",
    "\n",
    "- **Passo** 2: Utilize bibliotecas de visualização como Seaborn e Matplotlib para criar gráficos exploratórios.\n",
    "\n",
    "- **Passo** 3: Analise os gráficos e estatísticas para obter insights sobre os dados."
   ]
  },
  {
   "cell_type": "code",
   "execution_count": null,
   "id": "29b8ca70",
   "metadata": {},
   "outputs": [],
   "source": [
    "import pandas as pd\n",
    "import seaborn as sns\n",
    "import matplotlib.pyplot as plt\n",
    "\n",
    "data = pd.read_csv('dados.csv')\n",
    "# Realizando EDA\n",
    "print(data.describe())\n",
    "sns.histplot(data['idade'])\n",
    "plt.show()"
   ]
  },
  {
   "cell_type": "markdown",
   "id": "0214ee67",
   "metadata": {},
   "source": [
    "## 05 - Não realizar engenharia de features.\n",
    "\n",
    "**Descrição**: Iniciantes podem não realizar engenharia de features, perdendo a oportunidade de melhorar o desempenho dos modelos de machine learning.\n",
    "\n",
    "**Tipo de Erro**: Erro lógico."
   ]
  },
  {
   "cell_type": "code",
   "execution_count": null,
   "id": "da152c02",
   "metadata": {},
   "outputs": [],
   "source": [
    "# Exemplo\n",
    "\n",
    "data = pd.read_csv('dados.csv')\n",
    "# Esquecendo de realizar engenharia de features"
   ]
  },
  {
   "cell_type": "markdown",
   "id": "245b915a",
   "metadata": {},
   "source": [
    "### Correção \n",
    "\n",
    "- **Passo** 1: Identifique possíveis novas features que podem ser criadas a partir das existentes.\n",
    "\n",
    "- **Passo** 2: Utilize transformações matemáticas ou combinações de colunas para criar novas features.\n",
    "\n",
    "- **Passo** 3: Verifique o impacto das novas features no desempenho dos modelos."
   ]
  },
  {
   "cell_type": "code",
   "execution_count": null,
   "id": "8f910397",
   "metadata": {},
   "outputs": [],
   "source": [
    "import pandas as pd\n",
    "import numpy as np\n",
    "\n",
    "data = pd.read_csv('dados.csv')\n",
    "# Realizando engenharia de features\n",
    "data['log_salario'] = np.log(data['salário'] + 1)\n",
    "print(data.head())"
   ]
  }
 ],
 "metadata": {
  "kernelspec": {
   "display_name": ".venv",
   "language": "python",
   "name": "python3"
  },
  "language_info": {
   "codemirror_mode": {
    "name": "ipython",
    "version": 3
   },
   "file_extension": ".py",
   "mimetype": "text/x-python",
   "name": "python",
   "nbconvert_exporter": "python",
   "pygments_lexer": "ipython3",
   "version": "3.13.2"
  }
 },
 "nbformat": 4,
 "nbformat_minor": 5
}
