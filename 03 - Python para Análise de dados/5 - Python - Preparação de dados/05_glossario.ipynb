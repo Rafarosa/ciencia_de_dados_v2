{
 "cells": [
  {
   "cell_type": "markdown",
   "id": "566736c7",
   "metadata": {},
   "source": [
    "# Glossário\n",
    "Módulo 9\n",
    "Lembre-se dos termos mais utilizados durante o módulo."
   ]
  },
  {
   "cell_type": "markdown",
   "id": "c5524146",
   "metadata": {},
   "source": [
    "### Engenharia de Features:\n",
    "O processo de criar novas variáveis (features) a partir das existentes para melhorar o desempenho dos modelos de machine learning. Inclui técnicas como transformação logarítmica, criação de features baseadas na frequência de ocorrência e interação entre variáveis.\n",
    "\n",
    "### Label Encoding:\n",
    "Uma técnica de codificação de variáveis categóricas que converte valores únicos em números inteiros. Utiliza o `LabelEncoder` da biblioteca Scikit-learn.\n",
    "\n",
    "### MinMaxScaler:\n",
    "Um método de normalização que ajusta os valores dos dados para um intervalo específico, geralmente entre 0 e 1. Faz parte da biblioteca Scikit-learn.\n",
    "\n",
    "### One-Hot Encoding:\n",
    "Uma técnica de codificação de variáveis categóricas que transforma cada categoria em uma coluna binária separada. Utiliza o método `get_dummies` do Pandas.\n",
    "\n",
    "### RobustScaler:\n",
    "Um método de padronização que reduz o impacto de outliers ajustando os dados para que tenham uma média de 0 e um desvio padrão de 1. Utiliza a mediana e o intervalo interquartil.\n",
    "\n",
    "### StandardScaler:\n",
    "Um método de padronização que ajusta os dados para que tenham uma média de 0 e um desvio padrão de 1. Faz parte da biblioteca Scikit-learn."
   ]
  }
 ],
 "metadata": {
  "language_info": {
   "name": "python"
  }
 },
 "nbformat": 4,
 "nbformat_minor": 5
}
