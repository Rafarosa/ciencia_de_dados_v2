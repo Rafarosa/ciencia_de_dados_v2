{
 "cells": [
  {
   "cell_type": "markdown",
   "id": "40690924",
   "metadata": {},
   "source": [
    "# Lab 8\n"
   ]
  },
  {
   "cell_type": "markdown",
   "id": "31bc971a",
   "metadata": {},
   "source": [
    "Tratamento de Dados\n",
    "\n",
    "Vamos continuar o nosso projeto, realizando o tratamento de dados. Para facilitar, algumas questões, especifiquei os nomes dos campos, pois iremos usar em outros exercícios. Passo a passo:\n",
    "\n",
    "1 - Verifique a quantidade de linhas e colunas e armazene na variável linhas_colunas.\n",
    "\n",
    "2 - Verifique os tipos de dados de todo o dataframe e armazene na variável tipos.\n",
    "\n",
    "3 - Verifique a quantidade de valores nulos e armazene na variável nulos.\n",
    "\n",
    "4 - Substitua, no mesmo dataframe, os valores nulos das colunas ‘Temporada’ e ‘Marca’ por ‘Não Definido’."
   ]
  },
  {
   "cell_type": "code",
   "execution_count": null,
   "id": "ed068860",
   "metadata": {},
   "outputs": [],
   "source": [
    "import pandas as pd\n",
    "\n",
    "df = pd.read_csv('/data/ecommerce.csv')\n",
    "\n",
    "# Verifique a quantidade de linhas e colunas\n",
    "linhas_colunas = df.shape\n",
    "print('Verificar a qtd de Linhas e colunas: ', linhas_colunas)\n",
    "\n",
    "# Verifique os tipos de dados\n",
    "tipos = df.dtypes\n",
    "print('Verificar Tipagem:\\n', tipos)\n",
    "\n",
    "# Verifique a quantidade de valores nulos\n",
    "nulos = df.isnull().sum()\n",
    "print('Verificar valores nulos:\\n', nulos)\n",
    "\n",
    "#  Substitua os valores nulos das colunas ‘Temporada’ e ‘Marca’ por ‘Não Definido’\n",
    "df = df.fillna('Não Definido')"
   ]
  },
  {
   "cell_type": "markdown",
   "id": "d471834d",
   "metadata": {},
   "source": [
    "Vamos continuar a partir dos dados gerados no exercício anterior.\n",
    "\n",
    "1 - Trate os campos ‘Marca’; ‘Material’ e ‘Temporada’ para os valores serem em minúsculo\n",
    "\n",
    "2 - Mantenha apenas os registros que tenham no mínimo 8 valores não nulos"
   ]
  },
  {
   "cell_type": "code",
   "execution_count": null,
   "id": "8f3d2ad4",
   "metadata": {},
   "outputs": [],
   "source": [
    "df = pd.read_csv('/data/ecommerce_ex2.csv')\n",
    "\n",
    "# Escreva seu código abaixo\n",
    "\n",
    "# Converter a coluna 'Marca' para letras minúsculas\n",
    "df['Marca'] = df['Marca'].str.lower()\n",
    "\n",
    "# Converter a coluna 'Material' para letras minúsculas\n",
    "df['Material'] = df['Material'].str.lower()\n",
    "\n",
    "# Converter a coluna 'Temporada' para letras minúsculas\n",
    "df['Temporada'] = df['Temporada'].str.lower()\n",
    "\n",
    "# Remover linhas duplicadas\n",
    "df = df.drop_duplicates()\n",
    "\n",
    "# Remover linhas com menos de 8 valores não nulos\n",
    "# O parâmetro 'thresh' define o número mínimo de valores não nulos necessários para manter a linha\n",
    "df = df.dropna(thresh=8)"
   ]
  },
  {
   "cell_type": "markdown",
   "id": "5a3315aa",
   "metadata": {},
   "source": [
    "Dando continuação ao exercício, vamos filtrar os produtos com maiores quantidades de comentários (N_Avaliações). Para isso, utilizaremos o método do Intervalo Interquartil (IQR).\n",
    "\n",
    "Passos:\n",
    "\n",
    "- Calcular o IQR: O IQR é a diferença entre o terceiro quartil (Q3) e o primeiro quartil (Q1): iqr = q3 - q1.\n",
    "- Determinar o Limite Superior para Outliers: O limite superior é calculado como limite_alto = q3 + 1.5 * iqr.\n",
    "- Filtrar Produtos Acima do Limite: Filtre os produtos que têm N_Avaliações maior que limite_alto e armazene o resultado na variável df_avaliados."
   ]
  },
  {
   "cell_type": "code",
   "execution_count": null,
   "id": "c0a8d821",
   "metadata": {},
   "outputs": [],
   "source": [
    "df = pd.read_csv('/data/ecommerce_ex3.csv')\n",
    "\n",
    "# Escreva seu código abaixo\n",
    "\n",
    "# Calcular o intervalo interquartil (IQR)\n",
    "q1 = df['N_Avaliacoes'].quantile(0.25)\n",
    "q3 = df['N_Avaliacoes'].quantile(0.75)\n",
    "iqr = q3 - q1\n",
    "\n",
    "# Definir o limite superior para identificar outliers\n",
    "limite_alto = q3 + 1.5 * iqr\n",
    "limite_baixo = q1 - 1.5 * iqr\n",
    "\n",
    "# Filtrar os produtos que possuem um número de avaliações maior que o limite superior\n",
    "df_avaliados = df[(df['N_Avaliacoes'] > limite_alto)]"
   ]
  },
  {
   "cell_type": "markdown",
   "id": "244ffcf8",
   "metadata": {},
   "source": [
    "Finalize o exercício seguindo os passos abaixo:\n",
    "\n",
    "- Converta a coluna Desconto para o tipo string.\n",
    "- Modifique a coluna Desconto para exibir apenas o valor numérico do desconto (por exemplo, \"18% OFF\" deve se tornar \"18\").\n",
    "- Crie duas novas colunas baseadas na coluna Condicao:\n",
    "    - Condicao_Atual: Extraia a primeira parte do campo Condicao (por exemplo, \"Novo | +10mil vendidos\" deve se tornar \"Novo\").\n",
    "    - Qtd_Vendidos: Extraia a quantidade de itens vendidos do campo Condicao (por exemplo, \"Novo | +10mil vendidos\" deve se tornar \"+10mil\". Se não houver quantidade especificada, escreva \"Nenhum\".\n",
    "\n",
    "Saiba mais: Caso queria explorar outra solução, você pode usar a função assign para adicionar ou modificar várias colunas de um DataFrame de maneira encadeada. Lembre-se de que você pode passar funções lambda dentro do assign para aplicar transformações nas colunas:\n",
    "\n",
    "```python\n",
    "df = pd.read_csv('/data/ecommerce_ex4.csv', encoding='utf-8').assign(\n",
    "  # Adicione suas transformações aqui\n",
    ")\n",
    "```\n",
    "\n",
    "Docs: https://pandas.pydata.org/pandas-docs/stable/reference/api/pandas.DataFrame.assign.html\n",
    "\n"
   ]
  },
  {
   "cell_type": "code",
   "execution_count": null,
   "id": "d7e65ee0",
   "metadata": {},
   "outputs": [],
   "source": [
    "df = pd.read_csv('/data/ecommerce_ex4.csv', encoding='utf-8')\n",
    "\n",
    "# Escreva seu código abaixo\n",
    "\n",
    "# Extrair e limpar os dados da coluna 'Condicao'\n",
    "# A função lambda é usada aqui para pegar a primeira palavra da string na coluna 'Condicao'\n",
    "# x.split(' ')[0] pega a primeira palavra da string.\n",
    "df['Condicao_Atual'] = df['Condicao'].apply(lambda x: x.split(' ')[0] if isinstance(x, str) else x)\n",
    "\n",
    "# A função lambda é usada aqui para pegar a quinta palavra da string na coluna 'Condicao' se existir,\n",
    "# caso contrário, retorna 'Nenhum'\n",
    "df['Qtd_Vendidos'] = df['Condicao'].apply(lambda x: x.split(' ')[4] if len(x.split(' ')) > 4 else 'Nenhum' if isinstance(x, str) else x)\n",
    "\n",
    "# Converter a coluna 'Desconto' para string\n",
    "df['Desconto'] = df['Desconto'].astype(str)\n",
    "\n",
    "# A função lambda é usada aqui para remover o símbolo '%' da string na coluna 'Desconto'\n",
    "df['Desconto'] = df['Desconto'].apply(lambda x: x.split('%')[0].strip())"
   ]
  }
 ],
 "metadata": {
  "kernelspec": {
   "display_name": ".venv",
   "language": "python",
   "name": "python3"
  },
  "language_info": {
   "name": "python",
   "version": "3.13.2"
  }
 },
 "nbformat": 4,
 "nbformat_minor": 5
}
