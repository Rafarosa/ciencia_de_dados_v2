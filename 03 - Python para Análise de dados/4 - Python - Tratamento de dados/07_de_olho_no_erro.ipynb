{
 "cells": [
  {
   "cell_type": "markdown",
   "id": "b84778f9",
   "metadata": {},
   "source": [
    "# De olho no erro\n",
    "\n",
    "Aprenda a identificar e corrigir os erros mais comuns e torne seu código mais eficiente e confiável."
   ]
  },
  {
   "cell_type": "markdown",
   "id": "e703352f",
   "metadata": {},
   "source": [
    "### 1 - Esquecer de verificar valores nulos antes de operações.\n",
    "\n",
    "- Descrição: Iniciantes frequentemente esquecem de verificar e tratar valores nulos antes de realizar operações, o que pode levar a erros ou resultados inesperados.\n",
    "\n",
    "- Tipo de Erro: Erro de tempo de execução."
   ]
  },
  {
   "cell_type": "code",
   "execution_count": 9,
   "id": "135ae06d",
   "metadata": {},
   "outputs": [],
   "source": [
    "import pandas as pd\n",
    "import numpy as np"
   ]
  },
  {
   "cell_type": "code",
   "execution_count": 2,
   "id": "97c95238",
   "metadata": {},
   "outputs": [
    {
     "name": "stdout",
     "output_type": "stream",
     "text": [
      "     A    B\n",
      "0  1.0  2.0\n",
      "1  2.0  4.0\n",
      "2  NaN  NaN\n",
      "3  4.0  8.0\n"
     ]
    }
   ],
   "source": [
    "# Exemplo de erro\n",
    "\n",
    "df = pd.DataFrame({'A': [1, 2, None, 4]})\n",
    "df['B'] = df['A'] *2 # Pode causar erro se houver valores nulos\n",
    "\n",
    "print(df)"
   ]
  },
  {
   "cell_type": "code",
   "execution_count": null,
   "id": "9aaf3aa1",
   "metadata": {},
   "outputs": [
    {
     "name": "stdout",
     "output_type": "stream",
     "text": [
      "     A    B\n",
      "0  1.0  2.0\n",
      "1  2.0  4.0\n",
      "2  0.0  0.0\n",
      "3  4.0  8.0\n"
     ]
    }
   ],
   "source": [
    "# Exemplo corrigido\n",
    "\n",
    "# Passo 1: Identifique colunas com valores nulos usando `df.isna().sum()`.\n",
    "# Passo 2: Trate os valores nulos com `fillna` ou `dropna`.\n",
    "# Passo 3: Realize as operações desejadas após tratar os valores nulos.\n",
    "\n",
    "df = pd.DataFrame({'A': [1, 2, None, 4]})\n",
    "df['A'] = df['A'].fillna(0) # Tratar valores nulos\n",
    "df['B'] = df['A'] *2\n",
    "\n",
    "print(df)"
   ]
  },
  {
   "cell_type": "markdown",
   "id": "a13ec0ce",
   "metadata": {},
   "source": [
    "### 2 - Não converter tipos de dados corretamente.\n",
    "\n",
    "- Descrição: Iniciantes podem esquecer de converter tipos de dados, como strings para datas ou números, o que pode causar erros em operações subsequentes.\n",
    "\n",
    "- Tipo de Erro: Erro de tempo de execução."
   ]
  },
  {
   "cell_type": "code",
   "execution_count": null,
   "id": "dc54531e",
   "metadata": {},
   "outputs": [],
   "source": [
    "# Exemplo de erro\n",
    "df = pd.DataFrame({'date': ['2021-01-01', '2021-02-01', '2021-03-01']})\n",
    "df['date'] = df['date'] + pd.Timedelta(days=1) # Erro ao somar timedelta a string\n",
    "\n",
    "print(df)"
   ]
  },
  {
   "cell_type": "code",
   "execution_count": null,
   "id": "3ee889d5",
   "metadata": {},
   "outputs": [
    {
     "name": "stdout",
     "output_type": "stream",
     "text": [
      "        date\n",
      "0 2021-01-02\n",
      "1 2021-02-02\n",
      "2 2021-03-02\n"
     ]
    }
   ],
   "source": [
    "# Exemplo correção\n",
    "\n",
    "# Passo 1: Identifique colunas que precisam de conversão de tipo.\n",
    "# Passo 2: Use métodos como `pd.to_datetime` ou `astype` para converter os tipos de dados.\n",
    "# Passo 3: Realize operações após a conversão correta dos tipos de dados.\n",
    "\n",
    "df = pd.DataFrame({'date': ['2021-01-01', '2021-02-01', '2021-03-01']})\n",
    "df['date'] = pd.to_datetime(df['date'])  # Converter string para datetime\n",
    "df['date'] = df['date'] + pd.Timedelta(days=1)\n",
    "print(df)"
   ]
  },
  {
   "cell_type": "markdown",
   "id": "e8d23e37",
   "metadata": {},
   "source": [
    "### 3 - Não remover duplicatas no dataset.\n",
    "\n",
    "- Descrição: Iniciantes podem esquecer de remover duplicatas, o que pode distorcer análises e resultados.\n",
    "\n",
    "- Tipo de Erro: Erro lógico."
   ]
  },
  {
   "cell_type": "code",
   "execution_count": 7,
   "id": "156b3d1e",
   "metadata": {},
   "outputs": [
    {
     "name": "stdout",
     "output_type": "stream",
     "text": [
      "9\n"
     ]
    }
   ],
   "source": [
    "# Exemplo de codigo errado\n",
    "\n",
    "df = pd.DataFrame({'A': [1, 2, 2, 4]})\n",
    "# Esquecendo de remover duplicatas\n",
    "df_sum = df['A'].sum()  # Resultado incorreto devido a duplicatas\n",
    "\n",
    "print(df_sum)"
   ]
  },
  {
   "cell_type": "code",
   "execution_count": null,
   "id": "ab461b98",
   "metadata": {},
   "outputs": [
    {
     "name": "stdout",
     "output_type": "stream",
     "text": [
      "7\n"
     ]
    }
   ],
   "source": [
    "# Correção\n",
    "\n",
    "# Passo 1: Verifique a presença de duplicatas usando `df.duplicated().sum()`.\n",
    "# Passo 2: Remova duplicatas com `drop_duplicates`.\n",
    "# Passo 3: Realize operações após garantir que não há duplicatas.\n",
    "\n",
    "df = pd.DataFrame({'A': [1, 2, 2, 4]})\n",
    "df = df.drop_duplicates()  # Remover duplicatas\n",
    "df_sum = df['A'].sum()\n",
    "print(df_sum)"
   ]
  },
  {
   "cell_type": "markdown",
   "id": "fb13f2e3",
   "metadata": {},
   "source": [
    "### 4 - Não padronizar campos de texto.\n",
    "\n",
    "- Descrição: Iniciantes podem esquecer de padronizar campos de texto, resultando em inconsistências que afetam a análise.\n",
    "\n",
    "- Tipo de Erro: Erro lógico."
   ]
  },
  {
   "cell_type": "code",
   "execution_count": 5,
   "id": "87273442",
   "metadata": {},
   "outputs": [
    {
     "name": "stdout",
     "output_type": "stream",
     "text": [
      "['Alice' 'bob' 'CHARLIE']\n"
     ]
    }
   ],
   "source": [
    "# Exemplo errado\n",
    "\n",
    "df = pd.DataFrame({'name': ['Alice', 'bob', 'CHARLIE']})\n",
    "# Esquecendo de padronizar campos de texto\n",
    "unique_names = df['name'].unique()  # Resultados inconsistentes\n",
    "print(unique_names)"
   ]
  },
  {
   "cell_type": "code",
   "execution_count": null,
   "id": "829eee98",
   "metadata": {},
   "outputs": [
    {
     "name": "stdout",
     "output_type": "stream",
     "text": [
      "['Alice' 'Bob' 'Charlie']\n"
     ]
    }
   ],
   "source": [
    "# correção \n",
    "\n",
    "# Passo 1: Identifique colunas de texto que precisam de padronização.\n",
    "# Passo 2: Use métodos como `str.lower`, `str.upper` ou `str.title` para padronizar.\n",
    "# Passo 3: Realize operações após garantir a padronização dos campos de texto.\n",
    "\n",
    "df = pd.DataFrame({'name': ['Alice', 'bob', 'CHARLIE']})\n",
    "df['name'] = df['name'].str.title()  # Padronizar campos de texto\n",
    "unique_names = df['name'].unique()\n",
    "print(unique_names)"
   ]
  },
  {
   "cell_type": "markdown",
   "id": "adfd9e56",
   "metadata": {},
   "source": [
    "### 5 - Não identificar e tratar outliers.\n",
    "\n",
    "- Descrição: Iniciantes podem não identificar e tratar outliers, o que pode distorcer análises estatísticas e modelos preditivos.\n",
    "\n",
    "- Tipo de Erro: Erro lógico."
   ]
  },
  {
   "cell_type": "code",
   "execution_count": 8,
   "id": "015d94e9",
   "metadata": {},
   "outputs": [
    {
     "name": "stdout",
     "output_type": "stream",
     "text": [
      "251.5\n"
     ]
    }
   ],
   "source": [
    "# Exemplo errado\n",
    "\n",
    "df = pd.DataFrame({'A': [1, 2, 3, 1000]})\n",
    "# Esquecendo de tratar outliers\n",
    "mean_value = df['A'].mean()  # Média distorcida devido ao outlier\n",
    "print(mean_value)"
   ]
  },
  {
   "cell_type": "code",
   "execution_count": 11,
   "id": "6b3ccdf7",
   "metadata": {},
   "outputs": [
    {
     "name": "stdout",
     "output_type": "stream",
     "text": [
      "2.0\n"
     ]
    }
   ],
   "source": [
    "# Correção \n",
    "\n",
    "# Passo 1: Identifique outliers usando métodos como Z-score ou IQR.\n",
    "# Passo 2: Defina limites para identificar outliers.\n",
    "# Passo 3: Remova ou trate os outliers antes de realizar análises.\n",
    "\n",
    "df = pd.DataFrame({'A': [1, 2, 3, 1000]})\n",
    "q1 = df['A'].quantile(0.25)\n",
    "q3 = df['A'].quantile(0.75)\n",
    "iqr = q3 - q1\n",
    "lower_bound = q1 - 1.5 * iqr\n",
    "upper_bound = q3 + 1.5 * iqr\n",
    "df = df[(df['A'] >= lower_bound) & (df['A'] <= upper_bound)]  # Remover outliers\n",
    "mean_value = df['A'].mean()\n",
    "\n",
    "print(mean_value)"
   ]
  }
 ],
 "metadata": {
  "kernelspec": {
   "display_name": ".venv",
   "language": "python",
   "name": "python3"
  },
  "language_info": {
   "codemirror_mode": {
    "name": "ipython",
    "version": 3
   },
   "file_extension": ".py",
   "mimetype": "text/x-python",
   "name": "python",
   "nbconvert_exporter": "python",
   "pygments_lexer": "ipython3",
   "version": "3.13.2"
  }
 },
 "nbformat": 4,
 "nbformat_minor": 5
}
