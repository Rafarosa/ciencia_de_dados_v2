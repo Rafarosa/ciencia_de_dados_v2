{
 "cells": [
  {
   "cell_type": "markdown",
   "id": "74b80b19",
   "metadata": {},
   "source": [
    "# Introdução a tratamento de dados\n",
    "\n",
    "Estamos iniciando a primeira aula. Neste momento, dê play para:\n",
    "\n",
    "- Compreender a importância da limpeza e correção de dados para garantir sua qualidade e evitar conclusões errôneas em análises posteriores.\n",
    "\n",
    "- Aplicar expressões lambda para simplificar funções em uma única linha de código.\n",
    "\n",
    "- Analisar a estrutura dos dados utilizando comandos como head(), tail(), info(), isnull(), e sum() para identificar a presença de valores nulos e outliers."
   ]
  },
  {
   "cell_type": "code",
   "execution_count": 1,
   "id": "6aa036cf",
   "metadata": {},
   "outputs": [],
   "source": [
    "# Importando as bibliotecas necessárias\n",
    "import pandas as pd"
   ]
  },
  {
   "cell_type": "code",
   "execution_count": 8,
   "id": "f5b08f2f",
   "metadata": {},
   "outputs": [],
   "source": [
    "# Gerando Dataframes dos dados de clientes\n",
    "# caminho do arquivo CSV - assets\\clientes.csv\n",
    "\n",
    "df = pd.read_csv(r'C:\\Users\\rodri\\dev\\ciencia_de_dados_v2\\assets\\clientes.csv', encoding='utf-8')\n"
   ]
  },
  {
   "cell_type": "code",
   "execution_count": 9,
   "id": "3a0c98c2",
   "metadata": {},
   "outputs": [
    {
     "name": "stdout",
     "output_type": "stream",
     "text": [
      "                      nome             cpf  idade        data                    endereco                     bairro estado\n",
      "0  Sr. Vitor Gabriel Silva  640.***.***-01   90.0  1933-12-06    trevo emanuel silva, 482                 vila tirol     AP\n",
      "1            Calebe Santos  651.***.***-46   40.0  1984-03-06           recanto moraes, 7         ernesto nascimento     PB\n",
      "2       Maria Julia Castro  164.***.***-43    NaN  2035-04-12  residencial de pereira, 20                     jatobá     AL\n",
      "3           Arthur Da Rosa  085.***.***-30   53.0  1970-04-16          parque almeida, 66  vila suzana segunda seção     SE\n",
      "4             Juan Pereira  520.***.***-21   68.0  1955-10-25      rodovia de pereira, 51                    estrela     BA\n"
     ]
    }
   ],
   "source": [
    "# Exibindo os dados do DataFrame\n",
    "print(df.head().to_string())"
   ]
  },
  {
   "cell_type": "code",
   "execution_count": 10,
   "id": "957ed2dd",
   "metadata": {},
   "outputs": [
    {
     "name": "stdout",
     "output_type": "stream",
     "text": [
      "                    nome             cpf  idade        data              endereco                 bairro estado\n",
      "986        Eloah Peixoto  064.***.***-16   79.0  1944-05-23    rua não cadastrada  bairro não cadastrado     MG\n",
      "987          Luiza Sales  726.***.***-80   56.0  1968-05-01    rua não cadastrada  bairro não cadastrado     GO\n",
      "988  Dr. Alexandre Sales  427.***.***-40   87.0  1936-06-05    rua não cadastrada  bairro não cadastrado     SP\n",
      "989        Alícia Campos  162.***.***-94   49.0  1975-03-20    rua não cadastrada  bairro não cadastrado     GO\n",
      "990          Luigi Porto  826.***.***-83   43.0  1980-08-18  parque de santos, 88               são joão     PI\n"
     ]
    }
   ],
   "source": [
    "# Exibindo os ultimos registros\n",
    "print(df.tail().to_string())"
   ]
  },
  {
   "cell_type": "code",
   "execution_count": 7,
   "id": "1fc11df6",
   "metadata": {},
   "outputs": [
    {
     "name": "stdout",
     "output_type": "stream",
     "text": [
      "Número de linhas: (991, 7)\n"
     ]
    }
   ],
   "source": [
    "# Exibindo o número de linhas e colunas do DataFrame\n",
    "print(f'Número de linhas: {df.shape}')"
   ]
  },
  {
   "cell_type": "code",
   "execution_count": 9,
   "id": "76b058a0",
   "metadata": {},
   "outputs": [
    {
     "name": "stdout",
     "output_type": "stream",
     "text": [
      "Tipo de dados: \n",
      "nome         object\n",
      "cpf          object\n",
      "idade       float64\n",
      "data         object\n",
      "endereco     object\n",
      "bairro       object\n",
      "estado       object\n",
      "dtype: object\n"
     ]
    }
   ],
   "source": [
    "# Exibindo o tipo de dados do DataFrame\n",
    "print(f'Tipo de dados: \\n{df.dtypes}')"
   ]
  },
  {
   "cell_type": "code",
   "execution_count": 10,
   "id": "7aff9d11",
   "metadata": {},
   "outputs": [
    {
     "name": "stdout",
     "output_type": "stream",
     "text": [
      "Número de valores nulos: \n",
      "nome        3\n",
      "cpf         0\n",
      "idade       1\n",
      "data        0\n",
      "endereco    0\n",
      "bairro      0\n",
      "estado      0\n",
      "dtype: int64\n"
     ]
    }
   ],
   "source": [
    "# Exibindo o número de valores nulos do DataFrame\n",
    "print(f'Número de valores nulos: \\n{df.isnull().sum()}')"
   ]
  },
  {
   "cell_type": "markdown",
   "id": "f0f080a8",
   "metadata": {},
   "source": [
    "## Expressão lambda\n"
   ]
  },
  {
   "cell_type": "code",
   "execution_count": 13,
   "id": "bdfdd6d6",
   "metadata": {},
   "outputs": [],
   "source": [
    "# Função para calcular o cubo de um número\n",
    "def elevar_cubo(x):\n",
    "    return x ** 3"
   ]
  },
  {
   "cell_type": "code",
   "execution_count": 14,
   "id": "7f3a17bd",
   "metadata": {},
   "outputs": [],
   "source": [
    "# Expressão lambda para calcular o cubo de um número\n",
    "\n",
    "elevar_num_cubo = lambda x: x ** 3"
   ]
  },
  {
   "cell_type": "code",
   "execution_count": 17,
   "id": "4eb6d806",
   "metadata": {},
   "outputs": [
    {
     "name": "stdout",
     "output_type": "stream",
     "text": [
      "8\n",
      "8\n"
     ]
    }
   ],
   "source": [
    "# Textando das funções\n",
    "\n",
    "print(elevar_cubo(2))\n",
    "print(elevar_num_cubo(2))"
   ]
  },
  {
   "cell_type": "code",
   "execution_count": 20,
   "id": "190ed2e8",
   "metadata": {},
   "outputs": [
    {
     "name": "stdout",
     "output_type": "stream",
     "text": [
      "   numeros  cubo_função  cubo_lambda\n",
      "0        1            1            1\n",
      "1        2            8            8\n",
      "2        3           27           27\n",
      "3        4           64           64\n",
      "4        5          125          125\n",
      "5        6          216          216\n",
      "6        7          343          343\n",
      "7        8          512          512\n",
      "8        9          729          729\n",
      "9       10         1000         1000\n"
     ]
    }
   ],
   "source": [
    "# Aplicando função lambda em um dataframe \n",
    "\n",
    "df_numeros = pd.DataFrame({'numeros': [1, 2, 3, 4, 5, 6, 7, 8, 9, 10]})\n",
    "\n",
    "df_numeros['cubo_função'] = df_numeros['numeros'].apply(elevar_cubo)\n",
    "df_numeros['cubo_lambda'] = df_numeros['numeros'].apply(lambda x: x ** 3)\n",
    "print(df_numeros)"
   ]
  }
 ],
 "metadata": {
  "kernelspec": {
   "display_name": ".venv",
   "language": "python",
   "name": "python3"
  },
  "language_info": {
   "codemirror_mode": {
    "name": "ipython",
    "version": 3
   },
   "file_extension": ".py",
   "mimetype": "text/x-python",
   "name": "python",
   "nbconvert_exporter": "python",
   "pygments_lexer": "ipython3",
   "version": "3.13.2"
  }
 },
 "nbformat": 4,
 "nbformat_minor": 5
}
