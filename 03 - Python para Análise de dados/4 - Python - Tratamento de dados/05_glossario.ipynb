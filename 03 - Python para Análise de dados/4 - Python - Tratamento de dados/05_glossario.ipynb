{
 "cells": [
  {
   "cell_type": "markdown",
   "id": "fe25ca06",
   "metadata": {},
   "source": [
    "# Glossário"
   ]
  },
  {
   "cell_type": "markdown",
   "id": "1ace6f6d",
   "metadata": {},
   "source": [
    "Módulo 8\n",
    "Lembre-se dos termos mais utilizados durante o módulo."
   ]
  },
  {
   "cell_type": "markdown",
   "id": "033d8c8b",
   "metadata": {},
   "source": [
    "### DataFrame:\n",
    "\n",
    "Uma estrutura de dados bidimensional, semelhante a uma tabela, que é usada para armazenar e manipular dados em Python, especialmente com a biblioteca Pandas. Cada coluna em um DataFrame pode conter diferentes tipos de dados."
   ]
  },
  {
   "cell_type": "markdown",
   "id": "6efd3cfc",
   "metadata": {},
   "source": [
    "### Dropna:\n",
    "\n",
    "Uma função da biblioteca Pandas usada para remover valores nulos de um DataFrame. Pode ser configurada para eliminar linhas ou colunas inteiras que contêm valores nulos."
   ]
  },
  {
   "cell_type": "markdown",
   "id": "9f68a43d",
   "metadata": {},
   "source": [
    "### Fillna:\n",
    "\n",
    "Uma função da biblioteca Pandas que permite substituir valores nulos em um DataFrame por um valor especificado, ajudando a lidar com dados ausentes."
   ]
  },
  {
   "cell_type": "markdown",
   "id": "eb6e1405",
   "metadata": {},
   "source": [
    "### IQR (Interquartile Range):\n",
    "\n",
    "Uma medida estatística que representa a diferença entre o terceiro quartil (Q3) e o primeiro quartil (Q1) de um conjunto de dados. É frequentemente usado para identificar outliers."
   ]
  },
  {
   "cell_type": "markdown",
   "id": "8deddad2",
   "metadata": {},
   "source": [
    "### Lambda:\n",
    "\n",
    "Uma expressão anônima em Python que permite criar pequenas funções descartáveis. É útil para operações simples e rápidas, especialmente em contextos de tratamento de dados."
   ]
  },
  {
   "cell_type": "markdown",
   "id": "231f1264",
   "metadata": {},
   "source": [
    "### Z-score:\n",
    "\n",
    "Uma medida estatística que indica quantos desvios padrão um valor está distante da média de um conjunto de dados. É usado para identificar outliers."
   ]
  }
 ],
 "metadata": {
  "language_info": {
   "name": "python"
  }
 },
 "nbformat": 4,
 "nbformat_minor": 5
}
