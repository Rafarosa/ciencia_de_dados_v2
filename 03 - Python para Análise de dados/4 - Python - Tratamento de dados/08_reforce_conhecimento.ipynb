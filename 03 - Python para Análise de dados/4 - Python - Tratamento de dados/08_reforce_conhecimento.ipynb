{
 "cells": [
  {
   "cell_type": "markdown",
   "id": "b4741535",
   "metadata": {},
   "source": [
    "# Reforce seu conhecimento"
   ]
  },
  {
   "cell_type": "markdown",
   "id": "1e72c014",
   "metadata": {},
   "source": [
    "### O que é tratamento de dados e por que é importante?\n",
    "O tratamento de dados envolve a limpeza, correção e padronização dos dados para remover erros e inconsistências. É uma etapa essencial para garantir a qualidade e a precisão das análises e modelos preditivos, permitindo que as conclusões derivadas sejam confiáveis."
   ]
  },
  {
   "cell_type": "markdown",
   "id": "24608d82",
   "metadata": {},
   "source": [
    "### Quais são as principais ferramentas e bibliotecas usadas no tratamento de dados em Python?\n",
    "A principal biblioteca usada para manipulação de dados em Python é o Pandas. Além disso, outras bibliotecas como NumPy e SciPy também são frequentemente utilizadas para tarefas específicas de tratamento de dados."
   ]
  },
  {
   "cell_type": "markdown",
   "id": "5a424321",
   "metadata": {},
   "source": [
    "### Como posso identificar e tratar valores nulos em um DataFrame do Pandas?\n",
    "Para identificar valores nulos, você pode usar a função `df.isna()`. Para tratar esses valores, você pode substituí-los usando `fillna` ou removê-los com `dropna`. A função `dropna(thresh=n)` permite definir um limite mínimo de valores não nulos para manter uma linha ou coluna."
   ]
  },
  {
   "cell_type": "markdown",
   "id": "17c6c2c8",
   "metadata": {},
   "source": [
    "### O que são outliers e como posso identificá-los?\n",
    "Outliers são valores que se desviam significativamente dos outros dados em um conjunto. Eles podem ser identificados usando filtros básicos, Z-score ou IQR (Interquartile Range). Essas técnicas ajudam a detectar valores que estão fora do intervalo esperado."
   ]
  },
  {
   "cell_type": "markdown",
   "id": "59494d8d",
   "metadata": {},
   "source": [
    "### Como posso tratar campos de texto em um DataFrame?\n",
    "Campos de texto podem ser padronizados usando operações como `str.title`, `str.lower` e `str.upper`. Além disso, é possível validar e corrigir campos de texto, como endereços e nomes, para garantir a consistência dos dados."
   ]
  },
  {
   "cell_type": "markdown",
   "id": "e8b43ebc",
   "metadata": {},
   "source": [
    "### Qual é a importância da padronização de formatos e categorias nos dados?\n",
    "A padronização de formatos e categorias é crucial para garantir que os dados sejam consistentes e comparáveis. Isso inclui mascaramento de dados pessoais, correção de formatos de data e validação de categorias, o que facilita a análise e a interpretação dos dados."
   ]
  },
  {
   "cell_type": "markdown",
   "id": "e77e6ab8",
   "metadata": {},
   "source": [
    "### Como posso remover duplicatas de um DataFrame?\n",
    "Para remover duplicatas de um DataFrame, você pode usar a função `drop_duplicates`. Essa função elimina registros duplicados, mantendo apenas a primeira ocorrência de cada registro."
   ]
  },
  {
   "cell_type": "markdown",
   "id": "d60df75b",
   "metadata": {},
   "source": [
    "### Como posso salvar um DataFrame tratado em um novo arquivo?\n",
    "Após tratar os dados, você pode salvar o DataFrame em um novo arquivo CSV usando a função `to_csv`. Isso garante que as alterações feitas durante o tratamento de dados sejam preservadas e possam ser reutilizadas posteriormente."
   ]
  },
  {
   "cell_type": "markdown",
   "id": "d5f87e25",
   "metadata": {},
   "source": [
    "### O que são expressões lambda e como elas são usadas no tratamento de dados?\n",
    "Expressões lambda são funções anônimas em Python que podem ser usadas para simplificar operações simples. No tratamento de dados, elas são úteis para aplicar funções rápidas e customizadas a colunas de um DataFrame."
   ]
  },
  {
   "cell_type": "markdown",
   "id": "3b453133",
   "metadata": {},
   "source": [
    "### Quais são as estratégias comuns para tratar dados inconsistentes?\n",
    "Estratégias comuns para tratar dados inconsistentes incluem a padronização de formatos, validação e correção de campos, ajuste de idade com base na data de nascimento, separação de endereços e verificação de CPFs e siglas de estados. Essas técnicas ajudam a garantir que os dados sejam precisos e utilizáveis."
   ]
  }
 ],
 "metadata": {
  "language_info": {
   "name": "python"
  }
 },
 "nbformat": 4,
 "nbformat_minor": 5
}
