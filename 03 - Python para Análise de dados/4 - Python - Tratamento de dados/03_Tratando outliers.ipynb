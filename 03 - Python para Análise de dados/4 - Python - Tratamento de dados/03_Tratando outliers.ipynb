{
 "cells": [
  {
   "cell_type": "markdown",
   "id": "c3b3bfcf",
   "metadata": {},
   "source": [
    "# Tratar Outliers\n",
    "\n",
    "Na aula anterior, você compreendeu como limpar dados usando Python. Nesta aula, você vai:\n",
    "- explicar os métodos de identificação de outliers, incluindo Filtro Básico, Z-score e IQR.\n",
    "\n",
    "- implementar a identificação e remoção de outliers em um DataFrame utilizando os métodos aprendidos.\n",
    "\n",
    "- avaliar a influência dos outliers nos dados e decidir sobre a melhor abordagem para tratá-los, seja removendo-os ou corrigindo-os."
   ]
  },
  {
   "cell_type": "code",
   "execution_count": 1,
   "id": "045d2672",
   "metadata": {},
   "outputs": [],
   "source": [
    "# Importanto bibliotecas necessarias \n",
    "import pandas as pd\n",
    "from scipy import stats"
   ]
  },
  {
   "cell_type": "code",
   "execution_count": null,
   "id": "397422a4",
   "metadata": {},
   "outputs": [],
   "source": [
    "# Delimitando visialização no teminal, ou seja, a largura da visualização dos dados no terminal\n",
    "pd.set_option('display.width', None)\n",
    "\n",
    "# criando dataframe com os dados do cliente limpos da ultima aula\n",
    "df = pd.read_csv(r\"C:\\Users\\rodri\\dev\\ciencia_de_dados_v2\\assets\\clientes.csv\")\n",
    "\n",
    "# criando um filtro basico de idade, para pessoas cadastradaS com mais de 100 anos\n",
    "df_filtro_basico = df[df['idade'] > 100]\n",
    "\n",
    "# visualizando os dados de pessoas cadastradas com mais de 100 anos\n",
    "print(f'Filtro basico \\n {df_filtro_basico[['nome', 'idade']]}')"
   ]
  },
  {
   "cell_type": "markdown",
   "id": "3802a537",
   "metadata": {},
   "source": [
    "### Identificando outliers com Z-score\n",
    "https://docs.scipy.org/doc/scipy/reference/generated/scipy.stats.zscore.html#zscore"
   ]
  },
  {
   "cell_type": "code",
   "execution_count": null,
   "id": "03daf5d1",
   "metadata": {},
   "outputs": [],
   "source": [
    "# identificando dados com z-score\n",
    "# Calcula o z score de cada valor na amostra, em relação à média da amostra e ao desvio padrão.\n",
    "# \n",
    "z_scores = stats.zscore(df['idade'].dropna())\n",
    "\n",
    "# cria uma variavel com z_score com desvio padrão >= 3\n",
    "outliers_z = df[z_scores >=3]\n",
    "\n",
    "#mostrar dados \n",
    "print(f'Outliers pelo Z-score \\n{outliers_z}')"
   ]
  },
  {
   "cell_type": "markdown",
   "id": "814155ae",
   "metadata": {},
   "source": [
    "### filtrando outliers com Z-score"
   ]
  },
  {
   "cell_type": "code",
   "execution_count": null,
   "id": "03ab439f",
   "metadata": {},
   "outputs": [],
   "source": [
    "#filtrando outliers com Z-score\n",
    "df_zscore = df[(stats.zscore(df['idade']) < 3 )]"
   ]
  },
  {
   "cell_type": "markdown",
   "id": "8b8a9a8e",
   "metadata": {},
   "source": [
    "### Identificando outliers com IQR(Intervalo Interquartil)\n",
    "\n",
    "- O IQR (Intervalo Interquartil) é uma medida estatística que calcula a distância entre o primeiro e o terceiro quartil de um conjunto de dados. \n",
    "- É um estimador aparado, que elimina pontos periféricos de menor contribuição. \n",
    "- É uma medida robusta de escala. \n",
    "- É útil para identificar outliers. \n",
    "- É útil para construir box plots, que são representações gráficas de uma distribuição de probabilidade. \n",
    "- É útil para datasets com distribuições enviesadas. \n",
    "- É menos influenciado por valores extremos. "
   ]
  },
  {
   "cell_type": "code",
   "execution_count": null,
   "id": "74e6819e",
   "metadata": {},
   "outputs": [],
   "source": [
    "#identificando outliers com IQR\n",
    "\n",
    "Q1 = df['idade'].quantile(0.25)\n",
    "Q3 = df['idade'].quantile(0.75)\n",
    "\n",
    "IQR = Q3 - Q1\n",
    "\n",
    "limite_baixo = Q3 - 1.5 * IQR\n",
    "limite_alto = Q1 + 1.5 * IQR\n",
    "\n",
    "print(f'Limite de IQR: {limite_baixo, limite_alto}')\n",
    "\n",
    "# Retornando os valores que estão entre os limites\n",
    "outliers_iqr = df[(df['idade'] < limite_baixo) or (df['idade'] > limite_alto)]\n",
    "\n",
    "print(f\"Outliers pelo IQR: \\n {outliers_iqr}\")"
   ]
  },
  {
   "cell_type": "code",
   "execution_count": null,
   "id": "a6de5e48",
   "metadata": {},
   "outputs": [],
   "source": [
    "# filtrando dados com IQR\n",
    "df_iqr = df[(df['idade'] >= limite_baixo) and (df['idade'] <= limite_alto)]"
   ]
  },
  {
   "cell_type": "code",
   "execution_count": null,
   "id": "30997a60",
   "metadata": {},
   "outputs": [],
   "source": [
    "# Filtrar endereços inválidos\n",
    "df['endereco'] = df['endereco'].apply(lambda x: 'Endereço inválido' if len(x.split('\\n')) < 3 else x)"
   ]
  },
  {
   "cell_type": "code",
   "execution_count": null,
   "id": "c4f51c79",
   "metadata": {},
   "outputs": [],
   "source": [
    "# Tratar campos de texto\n",
    "df['nome'] = df['nome'].apply(lambda x: 'Nome inválido' if isinstance(x, str) and len(x) > 50 else x)\n",
    "print('Qtd registros com nomes grandes:', (df['nome'] == 'Nome inválido').sum())\n",
    "\n",
    "print('\\nDados com Outliers tratados:\\n', df)"
   ]
  },
  {
   "cell_type": "code",
   "execution_count": null,
   "id": "0f1cc481",
   "metadata": {},
   "outputs": [],
   "source": [
    "#Salvar dataframe\n",
    "df.to_csv('assets/clientes_remove_outliers.csv', index=False)"
   ]
  }
 ],
 "metadata": {
  "kernelspec": {
   "display_name": ".venv",
   "language": "python",
   "name": "python3"
  },
  "language_info": {
   "codemirror_mode": {
    "name": "ipython",
    "version": 3
   },
   "file_extension": ".py",
   "mimetype": "text/x-python",
   "name": "python",
   "nbconvert_exporter": "python",
   "pygments_lexer": "ipython3",
   "version": "3.13.2"
  }
 },
 "nbformat": 4,
 "nbformat_minor": 5
}
