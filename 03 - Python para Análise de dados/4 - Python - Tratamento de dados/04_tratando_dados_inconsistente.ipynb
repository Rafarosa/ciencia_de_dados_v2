{
 "cells": [
  {
   "cell_type": "markdown",
   "id": "feac4637",
   "metadata": {},
   "source": [
    "# Tratar dados inconsistencias\n",
    "\n",
    "Na aula anterior, você compreendeu como tratar outliers. Nesta aula, você vai:\n",
    "\n",
    "- reconhecer inconsistências nos dados, como formatos de datas incorretos e categorias não padronizadas.\n",
    "\n",
    "- utilizar funções lambda para mascaramento de dados pessoais e correção de formatos de texto.\n",
    "\n",
    "- validar e corrigir entradas de dados, como endereços e CPFs, garantindo a integridade e a consistência dos dados tratados.\n"
   ]
  },
  {
   "cell_type": "code",
   "execution_count": null,
   "id": "80b00659",
   "metadata": {},
   "outputs": [],
   "source": [
    "import pandas as pd\n",
    "import numpy as np\n",
    "\n",
    "pd.set_option('display.width', None)\n",
    "pd.set_option('display.max_colwidth', None)\n",
    "\n",
    "df = pd.read_csv('clientes_remove_outliers.csv')\n",
    "\n",
    "print(df.head())\n",
    "\n",
    "# Mascarar dados pessoais\n",
    "df['cpf_mascara'] = df['cpf'].apply(lambda cpf: f'{cpf[:3]}.***.***-{cpf[-2:]}')\n",
    "\n",
    "# Corrigir Datas\n",
    "df['data'] = pd.to_datetime(df['data'], format='%Y-%m-%d', errors='coerce')\n",
    "\n",
    "data_atual = pd.to_datetime('today')\n",
    "df['data_atualizada'] = df['data'].where(df['data'] <= data_atual, pd.to_datetime('1900-01-01'))\n",
    "df['idade_ajustada_ano'] = (data_atual - df['data_atualizada']).dt.year\n",
    "df['idade_ajustada'] -= ((data_atual.month < df['data_atualizada'].dt.month) & (data_atual.day < df['data_atualizada'].dt.day)).astype(int)\n",
    "df.loc[df['idade_ajustada_ano'] > 100, 'idade_ajustada'] = np.nan\n",
    "\n",
    "# Corrigir campo com múltiplas informações\n",
    "df['endereco_curto'] = df['endereco'].apply(lambda x: x.split('\\n')[0].strip())\n",
    "df['bairro'] = df['endereco'].apply(lambda x: x.split('\\n')[1].strip() if len(x.split('\\n')) > 1 else 'Desconhecido')\n",
    "df['estado_sigla'] = df['endereco'].apply(lambda x: x.split('\\n')[-1].strip() if len(x.split('\\n')) > 1 else 'Desconhecido')\n",
    "\n",
    "# Verificando a formatação do endereço\n",
    "df['endereco_curto'] = df['endereco_curto'].apply(lambda x: 'Endereço Inválido' if len(x) > 50 or len(x) < 5 else x)\n",
    "\n",
    "# Corrigir dados errôneos\n",
    "df['cpf'] = df['cpf'].apply(lambda x: 'CPF Inválido' if len(x) != 11 else x)\n",
    "#ou\n",
    "df['cpf'] = df['cpf'].apply(lambda x: x if len(x) == 14 else 'CPF inválido')\n",
    "\n",
    "estados_br = ['AC', 'AL', 'AP', 'AM', 'BA', 'CE', 'DF', 'ES', 'GO', 'MA', 'MT', 'MS', 'MG', 'PA', 'PB', 'PE', 'PI', 'RJ', 'RN', 'RS', 'RO', 'RR', 'SC', 'SP', 'SE', 'TO']\n",
    "df['estado_sigla'] = df['estado_sigla'].str.upper().apply(lambda x: x if x in estados_br else 'Desconhecido')\n",
    "\n",
    "print('\\nDados tratados:\\n', df.head())\n",
    "\n",
    "df['cpf'] = df['cpf_mascara']\n",
    "df['idade'] = df['idade_ajustada']\n",
    "df['endereco'] = df['endereco_curto']\n",
    "df['estado'] = df['estado_sigla']\n",
    "\n",
    "df_salvar = df[['nome', 'cpf', 'idade', 'data', 'endereco', 'bairro', 'estado']]\n",
    "df_salvar.to_csv('clientes_tratados.csv', index=False)\n",
    "\n"
   ]
  }
 ],
 "metadata": {
  "kernelspec": {
   "display_name": ".venv",
   "language": "python",
   "name": "python3"
  },
  "language_info": {
   "name": "python",
   "version": "3.13.2"
  }
 },
 "nbformat": 4,
 "nbformat_minor": 5
}
